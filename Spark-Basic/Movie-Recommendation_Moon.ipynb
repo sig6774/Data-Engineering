{
 "cells": [
  {
   "cell_type": "code",
   "execution_count": 1,
   "id": "16d71c93",
   "metadata": {},
   "outputs": [],
   "source": [
    "from pyspark.sql import SparkSession"
   ]
  },
  {
   "cell_type": "code",
   "execution_count": 2,
   "id": "3740d94a",
   "metadata": {},
   "outputs": [
    {
     "name": "stdout",
     "output_type": "stream",
     "text": [
      "22/10/06 19:13:07 WARN Utils: Your hostname, Moon-2.local resolves to a loopback address: 127.0.0.1; using 192.168.0.4 instead (on interface en0)\n",
      "22/10/06 19:13:07 WARN Utils: Set SPARK_LOCAL_IP if you need to bind to another address\n"
     ]
    },
    {
     "name": "stderr",
     "output_type": "stream",
     "text": [
      "Setting default log level to \"WARN\".\n",
      "To adjust logging level use sc.setLogLevel(newLevel). For SparkR, use setLogLevel(newLevel).\n"
     ]
    },
    {
     "name": "stdout",
     "output_type": "stream",
     "text": [
      "22/10/06 19:13:08 WARN NativeCodeLoader: Unable to load native-hadoop library for your platform... using builtin-java classes where applicable\n",
      "22/10/06 19:13:09 WARN Utils: Service 'SparkUI' could not bind on port 4040. Attempting port 4041.\n",
      "22/10/06 19:13:09 WARN Utils: Service 'SparkUI' could not bind on port 4041. Attempting port 4042.\n"
     ]
    }
   ],
   "source": [
    "MAX_MEMORY = \"5g\"\n",
    "spark = SparkSession.builder.appName(\"movie-recommendation\")\\\n",
    "    .config(\"spark.executor.memory\", MAX_MEMORY)\\\n",
    "    .config(\"spark.driver.memory\", MAX_MEMORY)\\\n",
    "    .getOrCreate()\n",
    "# 메모리 터지는 문제를 사전에 방지하고자 최대 메모리 사용량을 작성 \n"
   ]
  },
  {
   "cell_type": "code",
   "execution_count": 3,
   "id": "6b683ab1",
   "metadata": {},
   "outputs": [
    {
     "name": "stderr",
     "output_type": "stream",
     "text": [
      "                                                                                \r"
     ]
    }
   ],
   "source": [
    "ratings_file = \"/Users/sig6774/Desktop/Data_Engineering/data-engineering-main/01-spark/data/ml-25m/ratings.csv\"\n",
    "ratings_df = spark.read.csv(f\"file:///{ratings_file}\", inferSchema=True, header=True)\n",
    "# csv파일을 df로 변환해줌 "
   ]
  },
  {
   "cell_type": "code",
   "execution_count": 4,
   "id": "8df45389",
   "metadata": {},
   "outputs": [
    {
     "name": "stdout",
     "output_type": "stream",
     "text": [
      "+------+-------+------+----------+\n",
      "|userId|movieId|rating| timestamp|\n",
      "+------+-------+------+----------+\n",
      "|     1|    296|   5.0|1147880044|\n",
      "|     1|    306|   3.5|1147868817|\n",
      "|     1|    307|   5.0|1147868828|\n",
      "|     1|    665|   5.0|1147878820|\n",
      "|     1|    899|   3.5|1147868510|\n",
      "|     1|   1088|   4.0|1147868495|\n",
      "|     1|   1175|   3.5|1147868826|\n",
      "|     1|   1217|   3.5|1147878326|\n",
      "|     1|   1237|   5.0|1147868839|\n",
      "|     1|   1250|   4.0|1147868414|\n",
      "|     1|   1260|   3.5|1147877857|\n",
      "|     1|   1653|   4.0|1147868097|\n",
      "|     1|   2011|   2.5|1147868079|\n",
      "|     1|   2012|   2.5|1147868068|\n",
      "|     1|   2068|   2.5|1147869044|\n",
      "|     1|   2161|   3.5|1147868609|\n",
      "|     1|   2351|   4.5|1147877957|\n",
      "|     1|   2573|   4.0|1147878923|\n",
      "|     1|   2632|   5.0|1147878248|\n",
      "|     1|   2692|   5.0|1147869100|\n",
      "+------+-------+------+----------+\n",
      "only showing top 20 rows\n",
      "\n"
     ]
    }
   ],
   "source": [
    "ratings_df.show()"
   ]
  },
  {
   "cell_type": "code",
   "execution_count": 5,
   "id": "1b5ed1ac",
   "metadata": {},
   "outputs": [],
   "source": [
    "# userId, movieId, rating만 필요함\n",
    "ratings_df = ratings_df.select([\"userId\", \"movieId\", \"rating\"])"
   ]
  },
  {
   "cell_type": "code",
   "execution_count": 6,
   "id": "abf0ba72",
   "metadata": {},
   "outputs": [
    {
     "name": "stdout",
     "output_type": "stream",
     "text": [
      "+------+-------+------+\n",
      "|userId|movieId|rating|\n",
      "+------+-------+------+\n",
      "|     1|    296|   5.0|\n",
      "|     1|    306|   3.5|\n",
      "|     1|    307|   5.0|\n",
      "|     1|    665|   5.0|\n",
      "|     1|    899|   3.5|\n",
      "|     1|   1088|   4.0|\n",
      "|     1|   1175|   3.5|\n",
      "|     1|   1217|   3.5|\n",
      "|     1|   1237|   5.0|\n",
      "|     1|   1250|   4.0|\n",
      "|     1|   1260|   3.5|\n",
      "|     1|   1653|   4.0|\n",
      "|     1|   2011|   2.5|\n",
      "|     1|   2012|   2.5|\n",
      "|     1|   2068|   2.5|\n",
      "|     1|   2161|   3.5|\n",
      "|     1|   2351|   4.5|\n",
      "|     1|   2573|   4.0|\n",
      "|     1|   2632|   5.0|\n",
      "|     1|   2692|   5.0|\n",
      "+------+-------+------+\n",
      "only showing top 20 rows\n",
      "\n",
      "None\n",
      "root\n",
      " |-- userId: integer (nullable = true)\n",
      " |-- movieId: integer (nullable = true)\n",
      " |-- rating: double (nullable = true)\n",
      "\n",
      "None\n"
     ]
    }
   ],
   "source": [
    "print(ratings_df.show())\n",
    "print(ratings_df.printSchema())"
   ]
  },
  {
   "cell_type": "code",
   "execution_count": 7,
   "id": "8bd973c8",
   "metadata": {},
   "outputs": [
    {
     "name": "stderr",
     "output_type": "stream",
     "text": [
      "                                                                                \r"
     ]
    },
    {
     "name": "stdout",
     "output_type": "stream",
     "text": [
      "+-------+------------------+\n",
      "|summary|            rating|\n",
      "+-------+------------------+\n",
      "|  count|          25000095|\n",
      "|   mean| 3.533854451353085|\n",
      "| stddev|1.0607439611423508|\n",
      "|    min|               0.5|\n",
      "|    max|               5.0|\n",
      "+-------+------------------+\n",
      "\n"
     ]
    }
   ],
   "source": [
    "ratings_df.select(\"rating\").describe().show()\n",
    "# rating에 대한 컬럼의 통계값 "
   ]
  },
  {
   "cell_type": "code",
   "execution_count": 8,
   "id": "2f512b23",
   "metadata": {},
   "outputs": [],
   "source": [
    "# train과 test 데이터 셋으로 분리 \n",
    "train_df, test_df = ratings_df.randomSplit([0.8,0.2])"
   ]
  },
  {
   "cell_type": "code",
   "execution_count": 9,
   "id": "e5260779",
   "metadata": {},
   "outputs": [],
   "source": [
    "#ASL 알고리즘을 사용하기 위해 필요한 라이브러리 import\n",
    "from pyspark.ml.recommendation import ALS"
   ]
  },
  {
   "cell_type": "code",
   "execution_count": 10,
   "id": "f326e990",
   "metadata": {},
   "outputs": [],
   "source": [
    "als = ALS(\n",
    "    maxIter=5, \n",
    "    regParam=0.01,\n",
    "    userCol=\"userId\",\n",
    "    itemCol=\"movieId\",\n",
    "    ratingCol=\"rating\",\n",
    "    coldStartStrategy= \"drop\"\n",
    "    # 학습하지 못한 데이터를 어떻게 처리해야하는지 여부 (Nan, drop)\n",
    "         )"
   ]
  },
  {
   "cell_type": "code",
   "execution_count": 11,
   "id": "0fddcd6d",
   "metadata": {},
   "outputs": [
    {
     "name": "stderr",
     "output_type": "stream",
     "text": [
      "                                                                                \r"
     ]
    },
    {
     "name": "stdout",
     "output_type": "stream",
     "text": [
      "22/10/06 19:13:50 WARN InstanceBuilder$NativeBLAS: Failed to load implementation from:dev.ludovic.netlib.blas.JNIBLAS\n",
      "22/10/06 19:13:50 WARN InstanceBuilder$NativeBLAS: Failed to load implementation from:dev.ludovic.netlib.blas.ForeignLinkerBLAS\n"
     ]
    },
    {
     "name": "stderr",
     "output_type": "stream",
     "text": [
      "\r",
      "[Stage 16:>                                                        (0 + 8) / 10]\r",
      "\r",
      "[Stage 16:=============================================>           (8 + 2) / 10]\r"
     ]
    },
    {
     "name": "stdout",
     "output_type": "stream",
     "text": [
      "22/10/06 19:13:51 WARN InstanceBuilder$NativeLAPACK: Failed to load implementation from:dev.ludovic.netlib.lapack.JNILAPACK\n"
     ]
    },
    {
     "name": "stderr",
     "output_type": "stream",
     "text": [
      "                                                                                \r"
     ]
    }
   ],
   "source": [
    "model = als.fit(train_df)\n",
    "# fit으로 모델을 반환받음\n",
    "# memory 오류가 발생하는데 이것을 해결하기 위해서 sparkSession에서 따로 설정을 해야함 "
   ]
  },
  {
   "cell_type": "code",
   "execution_count": 12,
   "id": "828e64a0",
   "metadata": {},
   "outputs": [
    {
     "name": "stderr",
     "output_type": "stream",
     "text": [
      "                                                                                \r"
     ]
    },
    {
     "name": "stdout",
     "output_type": "stream",
     "text": [
      "+------+-------+------+----------+\n",
      "|userId|movieId|rating|prediction|\n",
      "+------+-------+------+----------+\n",
      "|    26|     50|   5.0| 3.9619906|\n",
      "|    26|    110|   4.0| 3.6664298|\n",
      "|    26|    589|   5.0| 3.1483727|\n",
      "|    26|   1037|   2.5| 3.0810199|\n",
      "|    26|   1991|   3.0|  2.876357|\n",
      "|    26|  79132|   5.0| 3.9007967|\n",
      "|    27|    527|   4.0| 4.1846704|\n",
      "|    27|   1196|   2.0| 2.8358152|\n",
      "|    27|   1247|   3.0| 3.7043045|\n",
      "|    27|   1387|   1.0| 3.6237538|\n",
      "|    27|   1721|   5.0|  4.125617|\n",
      "|    27|   2570|   3.0| 3.6387498|\n",
      "|    27|   2779|   3.0| 4.1945496|\n",
      "|    27|   3263|   4.0| 3.3141344|\n",
      "|    27|   3444|   2.0|  3.077427|\n",
      "|    27|   5060|   5.0| 3.7880025|\n",
      "|    28|    253|   5.0| 3.8962984|\n",
      "|    28|    750|   5.0|  5.034409|\n",
      "|    28|   1210|   5.0| 4.8852086|\n",
      "|    28|   1270|   4.0| 5.1380053|\n",
      "+------+-------+------+----------+\n",
      "only showing top 20 rows\n",
      "\n"
     ]
    }
   ],
   "source": [
    "pred = model.transform(test_df)\n",
    "pred.show()\n",
    "# 예측 결과 \n",
    "# rating이 진짜 값이고 prediction이 예측 값 "
   ]
  },
  {
   "cell_type": "code",
   "execution_count": 13,
   "id": "ce620870",
   "metadata": {
    "scrolled": true
   },
   "outputs": [
    {
     "name": "stderr",
     "output_type": "stream",
     "text": [
      "[Stage 132:==================================================>      (8 + 1) / 9]\r"
     ]
    },
    {
     "name": "stdout",
     "output_type": "stream",
     "text": [
      "+-------+------------------+------------------+\n",
      "|summary|            rating|        prediction|\n",
      "+-------+------------------+------------------+\n",
      "|  count|           4994940|           4994940|\n",
      "|   mean|3.5337071115969363| 3.420125133641283|\n",
      "| stddev|1.0606407798086621|0.7257908683373027|\n",
      "|    min|               0.5|        -10.020923|\n",
      "|    max|               5.0|         12.915684|\n",
      "+-------+------------------+------------------+\n",
      "\n"
     ]
    },
    {
     "name": "stderr",
     "output_type": "stream",
     "text": [
      "\r",
      "                                                                                \r"
     ]
    }
   ],
   "source": [
    "pred.select(\"rating\", \"prediction\").describe().show()\n",
    "# 실제값과 예측값의 통계값을 볼 수 있음 "
   ]
  },
  {
   "cell_type": "markdown",
   "id": "d69727ea",
   "metadata": {},
   "source": [
    "### Evaluation"
   ]
  },
  {
   "cell_type": "code",
   "execution_count": 14,
   "id": "ce5c6ac5",
   "metadata": {},
   "outputs": [],
   "source": [
    "from pyspark.ml.evaluation import RegressionEvaluator\n",
    "\n",
    "evaluator = RegressionEvaluator(metricName=\"rmse\", labelCol=\"rating\", predictionCol= \"prediction\")\n",
    "# 평가 내용을 정의 "
   ]
  },
  {
   "cell_type": "code",
   "execution_count": 15,
   "id": "edd169e9",
   "metadata": {},
   "outputs": [
    {
     "name": "stderr",
     "output_type": "stream",
     "text": [
      "[Stage 195:==================================================>      (8 + 1) / 9]\r"
     ]
    },
    {
     "name": "stdout",
     "output_type": "stream",
     "text": [
      "0.8176114035625365\n"
     ]
    },
    {
     "name": "stderr",
     "output_type": "stream",
     "text": [
      "\r",
      "                                                                                \r"
     ]
    }
   ],
   "source": [
    "rmse = evaluator.evaluate(pred)\n",
    "# 실제 예측값을 가지고 평가 진행\n",
    "print(rmse)"
   ]
  },
  {
   "cell_type": "code",
   "execution_count": 16,
   "id": "346c6313",
   "metadata": {},
   "outputs": [
    {
     "name": "stderr",
     "output_type": "stream",
     "text": [
      "[Stage 210:=====================================================>(99 + 1) / 100]\r"
     ]
    },
    {
     "name": "stdout",
     "output_type": "stream",
     "text": [
      "+------+--------------------+\n",
      "|userId|     recommendations|\n",
      "+------+--------------------+\n",
      "|    26|[{154634, 12.8814...|\n",
      "|    27|[{175455, 17.7619...|\n",
      "|    28|[{199340, 18.9276...|\n",
      "|    31|[{175455, 10.0264...|\n",
      "|    34|[{185367, 13.6254...|\n",
      "|    44|[{112577, 14.9260...|\n",
      "|    53|[{159131, 20.6558...|\n",
      "|    65|[{112577, 17.9947...|\n",
      "|    76|[{176179, 13.1805...|\n",
      "|    78|[{174403, 15.9118...|\n",
      "|    81|[{184501, 13.6648...|\n",
      "|    85|[{175455, 18.0747...|\n",
      "|   101|[{176179, 12.0474...|\n",
      "|   103|[{95695, 16.83391...|\n",
      "|   108|[{154634, 11.5487...|\n",
      "|   115|[{116847, 16.5391...|\n",
      "|   126|[{134037, 13.8541...|\n",
      "|   133|[{176179, 11.8309...|\n",
      "|   137|[{175455, 22.0059...|\n",
      "|   148|[{176179, 13.5713...|\n",
      "+------+--------------------+\n",
      "only showing top 20 rows\n",
      "\n"
     ]
    },
    {
     "name": "stderr",
     "output_type": "stream",
     "text": [
      "\r",
      "                                                                                \r"
     ]
    }
   ],
   "source": [
    "model.recommendForAllUsers(3).show()"
   ]
  },
  {
   "cell_type": "code",
   "execution_count": 17,
   "id": "8d8ebd82",
   "metadata": {},
   "outputs": [
    {
     "name": "stderr",
     "output_type": "stream",
     "text": [
      "[Stage 239:=====================================================>(99 + 1) / 100]\r"
     ]
    },
    {
     "name": "stdout",
     "output_type": "stream",
     "text": [
      "+-------+--------------------+\n",
      "|movieId|     recommendations|\n",
      "+-------+--------------------+\n",
      "|     12|[{123802, 6.77342...|\n",
      "|     26|[{110647, 5.77255...|\n",
      "|     27|[{63627, 6.233325...|\n",
      "|     28|[{135583, 6.73147...|\n",
      "|     31|[{52973, 5.605549...|\n",
      "|     34|[{84066, 7.278187...|\n",
      "|     44|[{109870, 7.08627...|\n",
      "|     53|[{34628, 12.83511...|\n",
      "|     65|[{67571, 7.183996...|\n",
      "|     76|[{104240, 6.10939...|\n",
      "|     78|[{61732, 7.156068...|\n",
      "|     81|[{89022, 6.321851...|\n",
      "|     85|[{135583, 7.03802...|\n",
      "|    101|[{66931, 5.923635...|\n",
      "|    103|[{9073, 6.3512564...|\n",
      "|    108|[{149971, 8.74020...|\n",
      "|    115|[{1225, 10.269253...|\n",
      "|    126|[{34628, 6.757936...|\n",
      "|    133|[{94231, 8.373791...|\n",
      "|    137|[{112808, 8.03427...|\n",
      "+-------+--------------------+\n",
      "only showing top 20 rows\n",
      "\n"
     ]
    },
    {
     "name": "stderr",
     "output_type": "stream",
     "text": [
      "\r",
      "                                                                                \r"
     ]
    }
   ],
   "source": [
    " model.recommendForAllItems(3).show()"
   ]
  },
  {
   "cell_type": "code",
   "execution_count": 18,
   "id": "ede6b2e6",
   "metadata": {},
   "outputs": [
    {
     "name": "stderr",
     "output_type": "stream",
     "text": [
      "\r",
      "[Stage 255:>                                                        (0 + 1) / 1]\r",
      "\r",
      "                                                                                \r"
     ]
    },
    {
     "name": "stdout",
     "output_type": "stream",
     "text": [
      "+------+\n",
      "|userId|\n",
      "+------+\n",
      "|    65|\n",
      "|    78|\n",
      "|    81|\n",
      "+------+\n",
      "\n"
     ]
    }
   ],
   "source": [
    "# 특정 유저만을 위한 추천을 할 수 있는 시스템 \n",
    "from pyspark.sql.types import IntegerType\n",
    "\n",
    "user_list = [65,78,81]\n",
    "# 특정 유저 \n",
    "# 여기서는 id가 65, 78, 81번 유저 \n",
    "\n",
    "users_df = spark.createDataFrame(user_list, IntegerType()).toDF(\"userId\")\n",
    "# df로 변환하고 컬럼 이름 지정 \n",
    "users_df.show()\n"
   ]
  },
  {
   "cell_type": "code",
   "execution_count": 21,
   "id": "72391237",
   "metadata": {},
   "outputs": [],
   "source": [
    "user_recoms = model.recommendForUserSubset(users_df, 5)\n",
    "# df로 변환한 유저 |데이터를 통해 5개의 movie를 추천 \n",
    "# 반환은 유저아이디와 movieId "
   ]
  },
  {
   "cell_type": "code",
   "execution_count": 22,
   "id": "3e4687b9",
   "metadata": {},
   "outputs": [
    {
     "name": "stderr",
     "output_type": "stream",
     "text": [
      "                                                                                \r"
     ]
    }
   ],
   "source": [
    "movies_list = user_recoms.collect()[0].recommendations\n",
    "# 첫번째 유저의 추천 영화 목록 "
   ]
  },
  {
   "cell_type": "code",
   "execution_count": 23,
   "id": "b631c524",
   "metadata": {},
   "outputs": [
    {
     "data": {
      "text/plain": [
       "[Row(movieId=112577, rating=17.99478530883789),\n",
       " Row(movieId=115864, rating=16.356884002685547),\n",
       " Row(movieId=149130, rating=15.305953979492188),\n",
       " Row(movieId=104774, rating=14.693916320800781),\n",
       " Row(movieId=181469, rating=14.422035217285156)]"
      ]
     },
     "execution_count": 23,
     "metadata": {},
     "output_type": "execute_result"
    }
   ],
   "source": [
    "movies_list\n",
    "# spark df로 바꿔줘야함"
   ]
  },
  {
   "cell_type": "code",
   "execution_count": 24,
   "id": "6ae17f71",
   "metadata": {},
   "outputs": [
    {
     "name": "stdout",
     "output_type": "stream",
     "text": [
      "+-------+------------------+\n",
      "|movieId|            rating|\n",
      "+-------+------------------+\n",
      "| 112577| 17.99478530883789|\n",
      "| 115864|16.356884002685547|\n",
      "| 149130|15.305953979492188|\n",
      "| 104774|14.693916320800781|\n",
      "| 181469|14.422035217285156|\n",
      "+-------+------------------+\n",
      "\n"
     ]
    }
   ],
   "source": [
    "recoms_df = spark.createDataFrame(movies_list)\n",
    "recoms_df.show()\n",
    "# 아이디를 이름값으로 변경해야함 "
   ]
  },
  {
   "cell_type": "code",
   "execution_count": 38,
   "id": "8b174f6e",
   "metadata": {},
   "outputs": [],
   "source": [
    "movies_file = \"/Users/sig6774/Desktop/Data_Engineering/data-engineering-main/01-spark/data/ml-25m/movies.csv\"\n",
    "movies_df = spark.read.csv(f\"file:///{movies_file}\", inferSchema=True, header=True)\n",
    "# csv파일을 df로 변환해줌 "
   ]
  },
  {
   "cell_type": "code",
   "execution_count": 39,
   "id": "6da8d314",
   "metadata": {},
   "outputs": [
    {
     "name": "stdout",
     "output_type": "stream",
     "text": [
      "+-------+--------------------+--------------------+\n",
      "|movieId|               title|              genres|\n",
      "+-------+--------------------+--------------------+\n",
      "|      1|    Toy Story (1995)|Adventure|Animati...|\n",
      "|      2|      Jumanji (1995)|Adventure|Childre...|\n",
      "|      3|Grumpier Old Men ...|      Comedy|Romance|\n",
      "|      4|Waiting to Exhale...|Comedy|Drama|Romance|\n",
      "|      5|Father of the Bri...|              Comedy|\n",
      "|      6|         Heat (1995)|Action|Crime|Thri...|\n",
      "|      7|      Sabrina (1995)|      Comedy|Romance|\n",
      "|      8| Tom and Huck (1995)|  Adventure|Children|\n",
      "|      9| Sudden Death (1995)|              Action|\n",
      "|     10|    GoldenEye (1995)|Action|Adventure|...|\n",
      "|     11|American Presiden...|Comedy|Drama|Romance|\n",
      "|     12|Dracula: Dead and...|       Comedy|Horror|\n",
      "|     13|        Balto (1995)|Adventure|Animati...|\n",
      "|     14|        Nixon (1995)|               Drama|\n",
      "|     15|Cutthroat Island ...|Action|Adventure|...|\n",
      "|     16|       Casino (1995)|         Crime|Drama|\n",
      "|     17|Sense and Sensibi...|       Drama|Romance|\n",
      "|     18|   Four Rooms (1995)|              Comedy|\n",
      "|     19|Ace Ventura: When...|              Comedy|\n",
      "|     20|  Money Train (1995)|Action|Comedy|Cri...|\n",
      "+-------+--------------------+--------------------+\n",
      "only showing top 20 rows\n",
      "\n"
     ]
    }
   ],
   "source": [
    "movies_df.show()"
   ]
  },
  {
   "cell_type": "code",
   "execution_count": 40,
   "id": "1059f078",
   "metadata": {},
   "outputs": [],
   "source": [
    "# sql에서 사용하기 위해 tempview 등록 \n",
    "recoms_df.createOrReplaceTempView(\"recommendations\")\n",
    "movies_df.createOrReplaceTempView(\"movies\")"
   ]
  },
  {
   "cell_type": "code",
   "execution_count": 41,
   "id": "3f7d78a5",
   "metadata": {
    "scrolled": true
   },
   "outputs": [
    {
     "name": "stdout",
     "output_type": "stream",
     "text": [
      "+-------+--------------------+--------------------+-------+------------------+\n",
      "|movieId|               title|              genres|movieId|            rating|\n",
      "+-------+--------------------+--------------------+-------+------------------+\n",
      "| 112577|Willie & Phil (1980)|Comedy|Drama|Romance| 112577| 17.99478530883789|\n",
      "| 115864|  Hue and Cry (1947)| Action|Comedy|Crime| 115864|16.356884002685547|\n",
      "| 149130|The Zohar Secret ...| Comedy|Drama|Sci-Fi| 149130|15.305953979492188|\n",
      "| 104774|Three Worlds (Tro...|               Drama| 104774|14.693916320800781|\n",
      "| 181469|Altered Minds (2014)|      Drama|Thriller| 181469|14.422035217285156|\n",
      "+-------+--------------------+--------------------+-------+------------------+\n",
      "\n"
     ]
    }
   ],
   "source": [
    "query = \"\"\"\n",
    "SELECT * \n",
    "FROM \n",
    "    movies JOIN recommendations \n",
    "    ON movies.movieId = recommendations.movieId\n",
    "ORDER BY \n",
    "    rating desc\n",
    "\"\"\"\n",
    "\n",
    "recommended_movies = spark.sql(query)\n",
    "recommended_movies.show()\n",
    "# 특정 유저의 추천 영화 리스트 5개를 볼 수 있음 "
   ]
  },
  {
   "cell_type": "code",
   "execution_count": 42,
   "id": "af3d3eee",
   "metadata": {},
   "outputs": [],
   "source": [
    "# 추천을 serving하는 function 만들기 \n",
    "def get_recommendations(user_id, num_recs):\n",
    "    \n",
    "    users_df = spark.createDataFrame([user_id], IntegerType()).toDF(\"userId\")\n",
    "    # 유저의 정보를 받아서 df로 변경 \n",
    "    \n",
    "    user_recs_df = model.recommendForUserSubset(users_df, num_recs)\n",
    "    \n",
    "    recs_list = user_recs_df.collect()[0].recommendations \n",
    "    recs_df = spark.createDataFrame(recs_list)\n",
    "    recommended_movies = spark.sql(query)\n",
    "     \n",
    "    return recommended_movies"
   ]
  },
  {
   "cell_type": "code",
   "execution_count": 44,
   "id": "63c83bd5",
   "metadata": {},
   "outputs": [
    {
     "name": "stderr",
     "output_type": "stream",
     "text": [
      "                                                                                \r"
     ]
    }
   ],
   "source": [
    "recs = get_recommendations(456, 5)"
   ]
  },
  {
   "cell_type": "code",
   "execution_count": 46,
   "id": "66b88884",
   "metadata": {},
   "outputs": [
    {
     "data": {
      "text/html": [
       "<div>\n",
       "<style scoped>\n",
       "    .dataframe tbody tr th:only-of-type {\n",
       "        vertical-align: middle;\n",
       "    }\n",
       "\n",
       "    .dataframe tbody tr th {\n",
       "        vertical-align: top;\n",
       "    }\n",
       "\n",
       "    .dataframe thead th {\n",
       "        text-align: right;\n",
       "    }\n",
       "</style>\n",
       "<table border=\"1\" class=\"dataframe\">\n",
       "  <thead>\n",
       "    <tr style=\"text-align: right;\">\n",
       "      <th></th>\n",
       "      <th>movieId</th>\n",
       "      <th>title</th>\n",
       "      <th>genres</th>\n",
       "      <th>movieId</th>\n",
       "      <th>rating</th>\n",
       "    </tr>\n",
       "  </thead>\n",
       "  <tbody>\n",
       "    <tr>\n",
       "      <th>0</th>\n",
       "      <td>112577</td>\n",
       "      <td>Willie &amp; Phil (1980)</td>\n",
       "      <td>Comedy|Drama|Romance</td>\n",
       "      <td>112577</td>\n",
       "      <td>17.994785</td>\n",
       "    </tr>\n",
       "    <tr>\n",
       "      <th>1</th>\n",
       "      <td>115864</td>\n",
       "      <td>Hue and Cry (1947)</td>\n",
       "      <td>Action|Comedy|Crime</td>\n",
       "      <td>115864</td>\n",
       "      <td>16.356884</td>\n",
       "    </tr>\n",
       "    <tr>\n",
       "      <th>2</th>\n",
       "      <td>149130</td>\n",
       "      <td>The Zohar Secret (2015)</td>\n",
       "      <td>Comedy|Drama|Sci-Fi</td>\n",
       "      <td>149130</td>\n",
       "      <td>15.305954</td>\n",
       "    </tr>\n",
       "    <tr>\n",
       "      <th>3</th>\n",
       "      <td>104774</td>\n",
       "      <td>Three Worlds (Trois mondes) (2012)</td>\n",
       "      <td>Drama</td>\n",
       "      <td>104774</td>\n",
       "      <td>14.693916</td>\n",
       "    </tr>\n",
       "    <tr>\n",
       "      <th>4</th>\n",
       "      <td>181469</td>\n",
       "      <td>Altered Minds (2014)</td>\n",
       "      <td>Drama|Thriller</td>\n",
       "      <td>181469</td>\n",
       "      <td>14.422035</td>\n",
       "    </tr>\n",
       "  </tbody>\n",
       "</table>\n",
       "</div>"
      ],
      "text/plain": [
       "   movieId                               title                genres  movieId  \\\n",
       "0   112577                Willie & Phil (1980)  Comedy|Drama|Romance   112577   \n",
       "1   115864                  Hue and Cry (1947)   Action|Comedy|Crime   115864   \n",
       "2   149130             The Zohar Secret (2015)   Comedy|Drama|Sci-Fi   149130   \n",
       "3   104774  Three Worlds (Trois mondes) (2012)                 Drama   104774   \n",
       "4   181469                Altered Minds (2014)        Drama|Thriller   181469   \n",
       "\n",
       "      rating  \n",
       "0  17.994785  \n",
       "1  16.356884  \n",
       "2  15.305954  \n",
       "3  14.693916  \n",
       "4  14.422035  "
      ]
     },
     "execution_count": 46,
     "metadata": {},
     "output_type": "execute_result"
    }
   ],
   "source": [
    "recs.toPandas()"
   ]
  },
  {
   "cell_type": "code",
   "execution_count": null,
   "id": "2171ac1a",
   "metadata": {},
   "outputs": [],
   "source": []
  }
 ],
 "metadata": {
  "kernelspec": {
   "display_name": "Python 3 (ipykernel)",
   "language": "python",
   "name": "python3"
  },
  "language_info": {
   "codemirror_mode": {
    "name": "ipython",
    "version": 3
   },
   "file_extension": ".py",
   "mimetype": "text/x-python",
   "name": "python",
   "nbconvert_exporter": "python",
   "pygments_lexer": "ipython3",
   "version": "3.9.12"
  }
 },
 "nbformat": 4,
 "nbformat_minor": 5
}

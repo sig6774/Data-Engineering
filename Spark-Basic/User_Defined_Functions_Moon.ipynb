{
 "cells": [
  {
   "cell_type": "code",
   "execution_count": 2,
   "id": "449b8a65",
   "metadata": {},
   "outputs": [],
   "source": [
    "# User Defined Function은 sql에서 사용할 수 있는 함수라고 생각 \n",
    "from pyspark.sql import SparkSession"
   ]
  },
  {
   "cell_type": "code",
   "execution_count": 3,
   "id": "becceeec",
   "metadata": {},
   "outputs": [
    {
     "name": "stdout",
     "output_type": "stream",
     "text": [
      "22/10/04 21:15:29 WARN Utils: Your hostname, Moon-2.local resolves to a loopback address: 127.0.0.1; using 192.168.0.4 instead (on interface en0)\n",
      "22/10/04 21:15:29 WARN Utils: Set SPARK_LOCAL_IP if you need to bind to another address\n"
     ]
    },
    {
     "name": "stderr",
     "output_type": "stream",
     "text": [
      "Setting default log level to \"WARN\".\n",
      "To adjust logging level use sc.setLogLevel(newLevel). For SparkR, use setLogLevel(newLevel).\n"
     ]
    },
    {
     "name": "stdout",
     "output_type": "stream",
     "text": [
      "22/10/04 21:15:30 WARN NativeCodeLoader: Unable to load native-hadoop library for your platform... using builtin-java classes where applicable\n"
     ]
    }
   ],
   "source": [
    "spark = SparkSession.builder.appName(\"udf\").getOrCreate()\n",
    "# 세션 생성 "
   ]
  },
  {
   "cell_type": "code",
   "execution_count": 4,
   "id": "3b4420c0",
   "metadata": {},
   "outputs": [],
   "source": [
    "transactions = [\n",
    "    ('찹쌀탕수육+짜장2', '2021-11-07 13:20:00', 22000, 'KRW'),\n",
    "    ('등심탕수육+크립새우+짜장면', '2021-10-24 11:19:00', 21500, 'KRW'), \n",
    "    ('월남 쌈 2인 세트', '2021-07-25 11:12:40', 42000, 'KRW'), \n",
    "    ('콩국수+열무비빔국수', '2021-07-10 08:20:00', 21250, 'KRW'), \n",
    "    ('장어소금+고추장구이', '2021-07-01 05:36:00', 68700, 'KRW'), \n",
    "    ('족발', '2020-08-19 19:04:00', 32000, 'KRW'),  \n",
    "]\n",
    "\n",
    "schema = [\"name\", \"datetime\", \"price\", \"currency\"]"
   ]
  },
  {
   "cell_type": "code",
   "execution_count": 5,
   "id": "858c0a86",
   "metadata": {},
   "outputs": [],
   "source": [
    "df = spark.createDataFrame(data = transactions, schema = schema)"
   ]
  },
  {
   "cell_type": "code",
   "execution_count": 6,
   "id": "2b56801b",
   "metadata": {},
   "outputs": [],
   "source": [
    "# sql에서 사용하기 위해 tempview 생성 \n",
    "df.createOrReplaceTempView(\"transactions\")"
   ]
  },
  {
   "cell_type": "code",
   "execution_count": 7,
   "id": "9e7cda45",
   "metadata": {
    "scrolled": true
   },
   "outputs": [
    {
     "name": "stderr",
     "output_type": "stream",
     "text": [
      "                                                                                \r"
     ]
    },
    {
     "name": "stdout",
     "output_type": "stream",
     "text": [
      "+--------------------------+-------------------+-----+--------+\n",
      "|                      name|           datetime|price|currency|\n",
      "+--------------------------+-------------------+-----+--------+\n",
      "|          찹쌀탕수육+짜장2|2021-11-07 13:20:00|22000|     KRW|\n",
      "|등심탕수육+크립새우+짜장면|2021-10-24 11:19:00|21500|     KRW|\n",
      "|          월남 쌈 2인 세트|2021-07-25 11:12:40|42000|     KRW|\n",
      "|       콩국수+열무비빔국수|2021-07-10 08:20:00|21250|     KRW|\n",
      "|       장어소금+고추장구이|2021-07-01 05:36:00|68700|     KRW|\n",
      "|                      족발|2020-08-19 19:04:00|32000|     KRW|\n",
      "+--------------------------+-------------------+-----+--------+\n",
      "\n"
     ]
    }
   ],
   "source": [
    "spark.sql(\"select * from transactions\").show()"
   ]
  },
  {
   "cell_type": "markdown",
   "id": "1d4d73c3",
   "metadata": {},
   "source": [
    "## UDF"
   ]
  },
  {
   "cell_type": "markdown",
   "id": "e68fad6a",
   "metadata": {},
   "source": [
    "### 첫번째 방법"
   ]
  },
  {
   "cell_type": "code",
   "execution_count": 8,
   "id": "05c8dc42",
   "metadata": {},
   "outputs": [
    {
     "data": {
      "text/plain": [
       "<function __main__.squared(n)>"
      ]
     },
     "execution_count": 8,
     "metadata": {},
     "output_type": "execute_result"
    }
   ],
   "source": [
    "def squared(n):\n",
    "    return n * n\n",
    "# 파이썬의 함수를 만들어야함\n",
    "spark.udf.register(\"squared\", squared)\n",
    "# spark 세션에서 udf의 register라는 함수를 통해 정의할 수 있음 \n",
    "# 파라미터 (sql에서 사용할 이름, 실제 참고할 함수)\n"
   ]
  },
  {
   "cell_type": "code",
   "execution_count": 10,
   "id": "d0a06456",
   "metadata": {},
   "outputs": [
    {
     "name": "stdout",
     "output_type": "stream",
     "text": [
      "+-----+--------------+\n",
      "|price|squared(price)|\n",
      "+-----+--------------+\n",
      "|22000|     484000000|\n",
      "|21500|     462250000|\n",
      "|42000|    1764000000|\n",
      "|21250|     451562500|\n",
      "|68700|    4719690000|\n",
      "|32000|    1024000000|\n",
      "+-----+--------------+\n",
      "\n",
      "root\n",
      " |-- price: long (nullable = true)\n",
      " |-- squared(price): string (nullable = true)\n",
      "\n"
     ]
    }
   ],
   "source": [
    "spark.sql(\"select price, squared(price) from transactions\").show()\n",
    "# 신기하네 \n",
    "# 적용됨 \n",
    "spark.sql(\"select price, squared(price) from transactions\").printSchema()\n",
    "# 제곱된 값의 리턴이 string으로 변환됨, 리턴 타입을 지정하지 않으면 자동으로 String "
   ]
  },
  {
   "cell_type": "code",
   "execution_count": 11,
   "id": "5e74c26b",
   "metadata": {},
   "outputs": [
    {
     "name": "stdout",
     "output_type": "stream",
     "text": [
      "22/10/04 21:21:00 WARN SimpleFunctionRegistry: The function squared replaced a previously registered function.\n"
     ]
    },
    {
     "data": {
      "text/plain": [
       "<function __main__.squared(n)>"
      ]
     },
     "execution_count": 11,
     "metadata": {},
     "output_type": "execute_result"
    }
   ],
   "source": [
    "from pyspark.sql.types import LongType \n",
    "\n",
    "spark.udf.register(\"squared\", squared, LongType())\n",
    "# 파라미터 (sql에서 사용할 이름, 실제 참고할 함수, 리턴할 변수 타입 )\n"
   ]
  },
  {
   "cell_type": "code",
   "execution_count": 12,
   "id": "a7959f2f",
   "metadata": {
    "scrolled": true
   },
   "outputs": [
    {
     "name": "stdout",
     "output_type": "stream",
     "text": [
      "+-----+--------------+\n",
      "|price|squared(price)|\n",
      "+-----+--------------+\n",
      "|22000|     484000000|\n",
      "|21500|     462250000|\n",
      "|42000|    1764000000|\n",
      "|21250|     451562500|\n",
      "|68700|    4719690000|\n",
      "|32000|    1024000000|\n",
      "+-----+--------------+\n",
      "\n",
      "root\n",
      " |-- price: long (nullable = true)\n",
      " |-- squared(price): long (nullable = true)\n",
      "\n"
     ]
    }
   ],
   "source": [
    "spark.sql(\"select price, squared(price) from transactions\").show()\n",
    "# 신기하네 \n",
    "# 적용됨 \n",
    "spark.sql(\"select price, squared(price) from transactions\").printSchema()\n",
    "# 리턴 타입이 달라졌음 "
   ]
  },
  {
   "cell_type": "markdown",
   "id": "d597d136",
   "metadata": {},
   "source": [
    "### 두번째 방법"
   ]
  },
  {
   "cell_type": "code",
   "execution_count": 13,
   "id": "8fa4a160",
   "metadata": {},
   "outputs": [],
   "source": [
    "# 두번째 방법 \n",
    "from pyspark.sql.functions import udf \n",
    "\n",
    "@udf(\"long\")\n",
    "def squared(n):\n",
    "    return n * n\n",
    "# 이렇게 작성하면 sql에서 사용할 수 있는 함수를 쉽게 정의할 수 있음 "
   ]
  },
  {
   "cell_type": "code",
   "execution_count": 14,
   "id": "08861478",
   "metadata": {},
   "outputs": [
    {
     "name": "stdout",
     "output_type": "stream",
     "text": [
      "+-----+--------------+\n",
      "|price|squared(price)|\n",
      "+-----+--------------+\n",
      "|22000|     484000000|\n",
      "|21500|     462250000|\n",
      "|42000|    1764000000|\n",
      "|21250|     451562500|\n",
      "|68700|    4719690000|\n",
      "|32000|    1024000000|\n",
      "+-----+--------------+\n",
      "\n",
      "root\n",
      " |-- price: long (nullable = true)\n",
      " |-- squared(price): long (nullable = true)\n",
      "\n"
     ]
    }
   ],
   "source": [
    "spark.sql(\"select price, squared(price) from transactions\").show()\n",
    "spark.sql(\"select price, squared(price) from transactions\").printSchema()"
   ]
  },
  {
   "cell_type": "code",
   "execution_count": 18,
   "id": "36c298c3",
   "metadata": {},
   "outputs": [
    {
     "name": "stdout",
     "output_type": "stream",
     "text": [
      "육만팔천칠백\n",
      "이만일천이백오십\n"
     ]
    }
   ],
   "source": [
    "def read_number(n):\n",
    "    units = [\"\", \"십\", \"백\", \"천\", \"만\"]\n",
    "    nums = '일이삼사오육칠팔구'\n",
    "    result = []\n",
    "    i = 0 \n",
    "    while n > 0:\n",
    "        n, r = divmod(n, 10)\n",
    "        # n을 10으로 나눴을 때 몫과 나머지 \n",
    "        if r > 0:\n",
    "            result.append(nums[r-1] + units[i])\n",
    "            # 계속 반복하면서 연산결과에 따라 한글로 변환할 수 있음 \n",
    "        i += 1\n",
    "    return \"\".join(reversed(result))\n",
    "print(read_number(68700))\n",
    "print(read_number(21250))"
   ]
  },
  {
   "cell_type": "code",
   "execution_count": 19,
   "id": "2bb18d83",
   "metadata": {},
   "outputs": [
    {
     "data": {
      "text/plain": [
       "<function __main__.read_number(n)>"
      ]
     },
     "execution_count": 19,
     "metadata": {},
     "output_type": "execute_result"
    }
   ],
   "source": [
    "spark.udf.register(\"read_number\", read_number)\n",
    "# sql에서 사용할 함수 등록 "
   ]
  },
  {
   "cell_type": "code",
   "execution_count": 20,
   "id": "81558b29",
   "metadata": {},
   "outputs": [
    {
     "name": "stdout",
     "output_type": "stream",
     "text": [
      "+-----+------------------+\n",
      "|price|read_number(price)|\n",
      "+-----+------------------+\n",
      "|22000|          이만이천|\n",
      "|21500|      이만일천오백|\n",
      "|42000|          사만이천|\n",
      "|21250|  이만일천이백오십|\n",
      "|68700|      육만팔천칠백|\n",
      "|32000|          삼만이천|\n",
      "+-----+------------------+\n",
      "\n"
     ]
    }
   ],
   "source": [
    "spark.sql(\"select price, read_number(price) from transactions\").show()"
   ]
  },
  {
   "cell_type": "code",
   "execution_count": 22,
   "id": "9c914179",
   "metadata": {},
   "outputs": [
    {
     "data": {
      "text/plain": [
       "<function __main__.get_weekday(date)>"
      ]
     },
     "execution_count": 22,
     "metadata": {},
     "output_type": "execute_result"
    }
   ],
   "source": [
    "def get_weekday(date):\n",
    "    import calendar\n",
    "    return calendar.day_name[date.weekday()]\n",
    "spark.udf.register(\"get_weekday\", get_weekday)"
   ]
  },
  {
   "cell_type": "code",
   "execution_count": 25,
   "id": "cdaa5706",
   "metadata": {},
   "outputs": [
    {
     "name": "stdout",
     "output_type": "stream",
     "text": [
      "+-------------------+-----------+\n",
      "|           datetime|day_of_week|\n",
      "+-------------------+-----------+\n",
      "|2021-11-07 13:20:00|     Sunday|\n",
      "|2021-10-24 11:19:00|     Sunday|\n",
      "|2021-07-25 11:12:40|     Sunday|\n",
      "|2021-07-10 08:20:00|   Saturday|\n",
      "|2021-07-01 05:36:00|   Thursday|\n",
      "|2020-08-19 19:04:00|  Wednesday|\n",
      "+-------------------+-----------+\n",
      "\n"
     ]
    }
   ],
   "source": [
    "query=\"\"\"\n",
    "select \n",
    "    datetime,\n",
    "    get_weekday(TO_DATE(datetime)) as day_of_week\n",
    "from \n",
    "    transactions\n",
    "\"\"\"\n",
    "spark.sql(query).show()\n",
    "# 오... 진짜 신기하네 "
   ]
  },
  {
   "cell_type": "code",
   "execution_count": null,
   "id": "da675d22",
   "metadata": {},
   "outputs": [],
   "source": []
  }
 ],
 "metadata": {
  "kernelspec": {
   "display_name": "Python 3 (ipykernel)",
   "language": "python",
   "name": "python3"
  },
  "language_info": {
   "codemirror_mode": {
    "name": "ipython",
    "version": 3
   },
   "file_extension": ".py",
   "mimetype": "text/x-python",
   "name": "python",
   "nbconvert_exporter": "python",
   "pygments_lexer": "ipython3",
   "version": "3.9.12"
  }
 },
 "nbformat": 4,
 "nbformat_minor": 5
}

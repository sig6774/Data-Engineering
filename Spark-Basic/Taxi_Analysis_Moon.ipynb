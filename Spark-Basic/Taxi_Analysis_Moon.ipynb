{
 "cells": [
  {
   "cell_type": "code",
   "execution_count": 1,
   "id": "6b7d0ef7",
   "metadata": {},
   "outputs": [],
   "source": [
    "from pyspark.sql import SparkSession"
   ]
  },
  {
   "cell_type": "code",
   "execution_count": 2,
   "id": "fa22318f",
   "metadata": {},
   "outputs": [
    {
     "name": "stdout",
     "output_type": "stream",
     "text": [
      "22/10/04 22:13:30 WARN Utils: Your hostname, Moon-2.local resolves to a loopback address: 127.0.0.1; using 192.168.0.4 instead (on interface en0)\n",
      "22/10/04 22:13:30 WARN Utils: Set SPARK_LOCAL_IP if you need to bind to another address\n"
     ]
    },
    {
     "name": "stderr",
     "output_type": "stream",
     "text": [
      "Setting default log level to \"WARN\".\n",
      "To adjust logging level use sc.setLogLevel(newLevel). For SparkR, use setLogLevel(newLevel).\n"
     ]
    },
    {
     "name": "stdout",
     "output_type": "stream",
     "text": [
      "22/10/04 22:13:31 WARN NativeCodeLoader: Unable to load native-hadoop library for your platform... using builtin-java classes where applicable\n"
     ]
    }
   ],
   "source": [
    "spark = SparkSession.builder.appName(\"taxi-analysis\").getOrCreate()"
   ]
  },
  {
   "cell_type": "code",
   "execution_count": 3,
   "id": "f1ffbd91",
   "metadata": {},
   "outputs": [],
   "source": [
    "directory = \"/Users/sig6774/Desktop/Data_Engineering/data-engineering-main/01-spark/data\"\n",
    "trip_file = \"tripdata_2021_1-7.csv\"\n",
    "zone_file = \"taxi+_zone_lookup.csv\""
   ]
  },
  {
   "cell_type": "code",
   "execution_count": 7,
   "id": "3c0445ff",
   "metadata": {},
   "outputs": [
    {
     "name": "stderr",
     "output_type": "stream",
     "text": [
      "                                                                                \r"
     ]
    }
   ],
   "source": [
    "trips_df = spark.read.csv(f\"file:///{directory}/{trip_file}\", inferSchema = True, header = True)\n",
    "zone_df = spark.read.csv(f\"file:///{directory}/{zone_file}\", inferSchema = True, header = True)"
   ]
  },
  {
   "cell_type": "code",
   "execution_count": 8,
   "id": "9cfd0a79",
   "metadata": {},
   "outputs": [
    {
     "name": "stdout",
     "output_type": "stream",
     "text": [
      "root\n",
      " |-- _c0: integer (nullable = true)\n",
      " |-- VendorID: integer (nullable = true)\n",
      " |-- tpep_pickup_datetime: timestamp (nullable = true)\n",
      " |-- tpep_dropoff_datetime: timestamp (nullable = true)\n",
      " |-- passenger_count: double (nullable = true)\n",
      " |-- trip_distance: double (nullable = true)\n",
      " |-- RatecodeID: double (nullable = true)\n",
      " |-- store_and_fwd_flag: string (nullable = true)\n",
      " |-- PULocationID: integer (nullable = true)\n",
      " |-- DOLocationID: integer (nullable = true)\n",
      " |-- payment_type: integer (nullable = true)\n",
      " |-- fare_amount: double (nullable = true)\n",
      " |-- extra: double (nullable = true)\n",
      " |-- mta_tax: double (nullable = true)\n",
      " |-- tip_amount: double (nullable = true)\n",
      " |-- tolls_amount: double (nullable = true)\n",
      " |-- improvement_surcharge: double (nullable = true)\n",
      " |-- total_amount: double (nullable = true)\n",
      " |-- congestion_surcharge: double (nullable = true)\n",
      " |-- airport_fee: double (nullable = true)\n",
      "\n"
     ]
    }
   ],
   "source": [
    "trips_df.printSchema()"
   ]
  },
  {
   "cell_type": "code",
   "execution_count": 9,
   "id": "7d4cd491",
   "metadata": {},
   "outputs": [
    {
     "name": "stdout",
     "output_type": "stream",
     "text": [
      "root\n",
      " |-- LocationID: integer (nullable = true)\n",
      " |-- Borough: string (nullable = true)\n",
      " |-- Zone: string (nullable = true)\n",
      " |-- service_zone: string (nullable = true)\n",
      "\n"
     ]
    }
   ],
   "source": [
    "zone_df.printSchema()"
   ]
  },
  {
   "cell_type": "code",
   "execution_count": 10,
   "id": "ff058d67",
   "metadata": {},
   "outputs": [],
   "source": [
    "# sql을 사용하기 위해 tempview 등록 \n",
    "trips_df.createOrReplaceTempView(\"trips\")\n",
    "zone_df.createOrReplaceTempView(\"zone\")"
   ]
  },
  {
   "cell_type": "code",
   "execution_count": 27,
   "id": "caddb889",
   "metadata": {},
   "outputs": [
    {
     "name": "stdout",
     "output_type": "stream",
     "text": [
      "+---------+-----------+------------+-----------+------------+---------------+-------------+-----------+----------+------------+------------+------------+--------------------+--------------------+\n",
      "|vendor_id|pickup_date|dropoff_date|pickup_time|dropoff_time|passenger_count|trip_distance|fare_amount|tip_amount|tolls_amount|total_amount|payment_type|         pickup_zone|        dropoff_zone|\n",
      "+---------+-----------+------------+-----------+------------+---------------+-------------+-----------+----------+------------+------------+------------+--------------------+--------------------+\n",
      "|        1| 2021-01-01|  2021-01-01|          0|           0|            1.0|          2.1|        8.0|       0.0|         0.0|        11.8|           2| Lincoln Square East|        Central Park|\n",
      "|        1| 2021-01-01|  2021-01-01|          0|           0|            1.0|          0.2|        3.0|       0.0|         0.0|         4.3|           2|Upper West Side N...|    Manhattan Valley|\n",
      "|        1| 2021-01-01|  2021-01-01|          0|           1|            1.0|         14.7|       42.0|      8.65|         0.0|       51.95|           1|         JFK Airport|             Midwood|\n",
      "|        1| 2021-01-01|  2021-01-01|          0|           0|            0.0|         10.6|       29.0|      6.05|         0.0|       36.35|           1|   LaGuardia Airport|         JFK Airport|\n",
      "|        2| 2021-01-01|  2021-01-01|          0|           0|            1.0|         4.94|       16.5|      4.06|         0.0|       24.36|           1|        East Chelsea|    Brooklyn Heights|\n",
      "|        1| 2021-01-01|  2021-01-01|          0|           0|            1.0|          1.6|        8.0|      2.35|         0.0|       14.15|           1|Stuy Town/Peter C...|        East Chelsea|\n",
      "|        1| 2021-01-01|  2021-01-01|          0|           0|            1.0|          4.1|       16.0|       0.0|         0.0|        17.3|           2|        Forest Hills|             Maspeth|\n",
      "|        1| 2021-01-01|  2021-01-01|          0|           0|            1.0|          5.7|       18.0|       0.0|         0.0|        21.8|           2|            Flatiron|     Carroll Gardens|\n",
      "|        1| 2021-01-01|  2021-01-01|          0|           1|            1.0|          9.1|       27.5|       0.0|         0.0|        28.8|           4|         Fort Greene|     Jackson Heights|\n",
      "|        1| 2021-01-01|  2021-01-01|          0|           0|            2.0|          2.7|       12.0|      3.15|         0.0|       18.95|           1|      Yorkville West| Lincoln Square East|\n",
      "|        2| 2021-01-01|  2021-01-01|          0|           0|            3.0|         6.11|       20.5|       0.0|         0.0|        24.3|           1|       Midtown South|Williamsburg (Nor...|\n",
      "|        2| 2021-01-01|  2021-01-01|          0|           0|            2.0|         1.21|        7.0|      2.49|         0.0|       10.79|           1|Williamsburg (Nor...|   East Williamsburg|\n",
      "|        1| 2021-01-01|  2021-01-01|          0|           0|            2.0|          7.4|       24.5|       0.0|        6.12|       33.92|           2|   LaGuardia Airport| Morningside Heights|\n",
      "|        2| 2021-01-01|  2021-01-01|          0|           0|            5.0|          1.7|        8.0|      2.36|         0.0|       14.16|           1| Lincoln Square East|        Clinton West|\n",
      "|        2| 2021-01-01|  2021-01-01|          0|           0|            5.0|         0.81|        4.5|       0.0|         0.0|         8.3|           2|        Clinton West| Lincoln Square East|\n",
      "|        2| 2021-01-01|  2021-01-01|          0|           0|            1.0|         1.01|        5.5|       1.0|         0.0|        10.3|           1|Upper East Side N...|Upper East Side S...|\n",
      "|        2| 2021-01-01|  2021-01-01|          0|           0|            1.0|         0.73|        5.5|      2.79|         0.0|       12.09|           1| Lincoln Square East|Upper West Side S...|\n",
      "|        2| 2021-01-01|  2021-01-01|          0|           0|            1.0|         1.17|        6.5|      2.06|         0.0|       12.36|           1|Upper West Side N...| Morningside Heights|\n",
      "|        2| 2021-01-01|  2021-01-01|          0|           0|            1.0|         0.78|        4.5|      1.66|         0.0|        9.96|           1|Upper West Side S...|Upper West Side N...|\n",
      "|        2| 2021-01-01|  2021-01-01|          0|           0|            2.0|         1.66|        8.5|       0.0|         0.0|        12.3|           2|    Manhattan Valley| Lincoln Square East|\n",
      "+---------+-----------+------------+-----------+------------+---------------+-------------+-----------+----------+------------+------------+------------+--------------------+--------------------+\n",
      "only showing top 20 rows\n",
      "\n"
     ]
    }
   ],
   "source": [
    "query = \"\"\"\n",
    "select \n",
    "    t.VendorId as vendor_id, \n",
    "    TO_DATE(t.tpep_pickup_datetime) as pickup_date,\n",
    "    TO_DATE(t.tpep_dropoff_datetime) as dropoff_date,\n",
    "    HOUR(t.tpep_pickup_datetime) as pickup_time,\n",
    "    HOUR(t.tpep_dropoff_datetime) as dropoff_time,\n",
    "    t.passenger_count,\n",
    "    t.trip_distance,\n",
    "    t.fare_amount,\n",
    "    t.tip_amount,\n",
    "    t.tolls_amount,\n",
    "    t.total_amount,\n",
    "    t.payment_type,\n",
    "    pz.Zone as pickup_zone, \n",
    "    dz.Zone as dropoff_zone\n",
    "from \n",
    "    trips t \n",
    "    LEFT JOIN \n",
    "        zone pz \n",
    "    ON \n",
    "        t.PULocationID = pz.LocationID\n",
    "    LEFT JOIN \n",
    "        zone dz\n",
    "    ON t.DOLocationID = dz.LocationID\n",
    "\"\"\"\n",
    "\n",
    "comb_df = spark.sql(query)\n",
    "comb_df.createOrReplaceTempView(\"comb\")\n",
    "comb_df.show()"
   ]
  },
  {
   "cell_type": "code",
   "execution_count": 19,
   "id": "ac273ff8",
   "metadata": {},
   "outputs": [
    {
     "name": "stdout",
     "output_type": "stream",
     "text": [
      "root\n",
      " |-- vendor_id: integer (nullable = true)\n",
      " |-- pickup_date: date (nullable = true)\n",
      " |-- dropoff_date: date (nullable = true)\n",
      " |-- pickup_time: integer (nullable = true)\n",
      " |-- dropoff_time: integer (nullable = true)\n",
      " |-- trip_distance: double (nullable = true)\n",
      " |-- fare_amount: double (nullable = true)\n",
      " |-- tip_amount: double (nullable = true)\n",
      " |-- tolls_amount: double (nullable = true)\n",
      " |-- total_amount: double (nullable = true)\n",
      " |-- payment_type: integer (nullable = true)\n",
      " |-- pickup_zone: string (nullable = true)\n",
      " |-- dropoff_zone: string (nullable = true)\n",
      "\n"
     ]
    }
   ],
   "source": [
    "comb_df.printSchema()"
   ]
  },
  {
   "cell_type": "code",
   "execution_count": 20,
   "id": "28af1f97",
   "metadata": {},
   "outputs": [
    {
     "name": "stdout",
     "output_type": "stream",
     "text": [
      "+-----------+-----------+\n",
      "|pickup_date|pickup_time|\n",
      "+-----------+-----------+\n",
      "| 2020-12-31|         23|\n",
      "| 2020-12-31|         21|\n",
      "| 2020-12-31|         23|\n",
      "| 2020-12-31|         18|\n",
      "| 2021-01-01|          1|\n",
      "| 2021-01-01|          1|\n",
      "| 2020-12-31|         23|\n",
      "| 2020-12-31|         13|\n",
      "| 2020-12-31|         23|\n",
      "| 2021-01-01|          1|\n",
      "| 2021-01-01|          1|\n",
      "| 2021-01-01|          1|\n",
      "| 2021-01-01|          1|\n",
      "| 2021-01-01|          1|\n",
      "| 2021-01-01|          1|\n",
      "| 2021-01-01|          1|\n",
      "| 2021-01-01|          1|\n",
      "| 2021-01-01|          1|\n",
      "| 2021-01-01|          1|\n",
      "| 2021-01-01|          1|\n",
      "+-----------+-----------+\n",
      "only showing top 20 rows\n",
      "\n"
     ]
    }
   ],
   "source": [
    "spark.sql(\"select pickup_date, pickup_time from comb where pickup_time >0\").show()"
   ]
  },
  {
   "cell_type": "code",
   "execution_count": 21,
   "id": "c38e76cb",
   "metadata": {},
   "outputs": [
    {
     "name": "stderr",
     "output_type": "stream",
     "text": [
      "[Stage 28:>                                                         (0 + 4) / 4]\r"
     ]
    },
    {
     "name": "stdout",
     "output_type": "stream",
     "text": [
      "+-----------+-----------+\n",
      "|pickup_date|pickup_time|\n",
      "+-----------+-----------+\n",
      "| 2009-01-01|          0|\n",
      "| 2008-12-31|         23|\n",
      "| 2009-01-01|          0|\n",
      "| 2009-01-01|          0|\n",
      "| 2009-01-01|          0|\n",
      "| 2008-12-31|         23|\n",
      "| 2008-12-31|         23|\n",
      "| 2009-01-01|          0|\n",
      "| 2009-01-01|          0|\n",
      "| 2009-01-01|          0|\n",
      "| 2009-01-01|          0|\n",
      "| 2009-01-01|          1|\n",
      "| 2009-01-01|         17|\n",
      "| 2009-01-01|         17|\n",
      "| 2009-01-01|         18|\n",
      "| 2009-01-01|          1|\n",
      "| 2009-01-01|          1|\n",
      "| 2009-01-01|          2|\n",
      "| 2009-01-01|          2|\n",
      "| 2009-01-01|          0|\n",
      "+-----------+-----------+\n",
      "only showing top 20 rows\n",
      "\n"
     ]
    },
    {
     "name": "stderr",
     "output_type": "stream",
     "text": [
      "\r",
      "[Stage 28:=============================>                            (2 + 2) / 4]\r",
      "\r",
      "                                                                                \r"
     ]
    }
   ],
   "source": [
    "spark.sql(\"select pickup_date, pickup_time from comb where pickup_date < '2020-12-31'\").show()\n",
    "# 이상한 데이터도 포함되어 있음 "
   ]
  },
  {
   "cell_type": "code",
   "execution_count": 24,
   "id": "65454f2a",
   "metadata": {},
   "outputs": [
    {
     "name": "stderr",
     "output_type": "stream",
     "text": [
      "                                                                                \r"
     ]
    },
    {
     "name": "stdout",
     "output_type": "stream",
     "text": [
      "+-------+------------------+\n",
      "|summary|      total_amount|\n",
      "+-------+------------------+\n",
      "|  count|          15000936|\n",
      "|   mean|18.755400511181833|\n",
      "| stddev|145.74310219085967|\n",
      "|    min|            -647.8|\n",
      "|    max|          398469.2|\n",
      "+-------+------------------+\n",
      "\n"
     ]
    }
   ],
   "source": [
    "comb_df.select(\"total_amount\").describe().show()\n",
    "# max와 min이 말이 안됨... \n",
    "# 클리닝 필요할 듯 "
   ]
  },
  {
   "cell_type": "code",
   "execution_count": 25,
   "id": "b656ad1d",
   "metadata": {},
   "outputs": [
    {
     "name": "stderr",
     "output_type": "stream",
     "text": [
      "[Stage 38:===============================================>        (11 + 2) / 13]\r"
     ]
    },
    {
     "name": "stdout",
     "output_type": "stream",
     "text": [
      "+-------+-----------------+\n",
      "|summary|    trip_distance|\n",
      "+-------+-----------------+\n",
      "|  count|         15000936|\n",
      "|   mean|6.628556730059909|\n",
      "| stddev|671.7240645481055|\n",
      "|    min|              0.0|\n",
      "|    max|        332541.19|\n",
      "+-------+-----------------+\n",
      "\n"
     ]
    },
    {
     "name": "stderr",
     "output_type": "stream",
     "text": [
      "\r",
      "                                                                                \r"
     ]
    }
   ],
   "source": [
    "comb_df.select(\"trip_distance\").describe().show()\n",
    "# max값이 말이 안됨 "
   ]
  },
  {
   "cell_type": "code",
   "execution_count": 28,
   "id": "8608330d",
   "metadata": {},
   "outputs": [
    {
     "name": "stderr",
     "output_type": "stream",
     "text": [
      "[Stage 44:===============================================>        (11 + 2) / 13]\r"
     ]
    },
    {
     "name": "stdout",
     "output_type": "stream",
     "text": [
      "+-------+------------------+\n",
      "|summary|   passenger_count|\n",
      "+-------+------------------+\n",
      "|  count|          14166908|\n",
      "|   mean|1.4253582362502812|\n",
      "| stddev|1.0443336003189323|\n",
      "|    min|               0.0|\n",
      "|    max|               9.0|\n",
      "+-------+------------------+\n",
      "\n"
     ]
    },
    {
     "name": "stderr",
     "output_type": "stream",
     "text": [
      "\r",
      "                                                                                \r"
     ]
    }
   ],
   "source": [
    "comb_df.select(\"passenger_count\").describe().show()\n",
    "# 승객 수 "
   ]
  },
  {
   "cell_type": "code",
   "execution_count": 30,
   "id": "8dc7495e",
   "metadata": {
    "scrolled": true
   },
   "outputs": [
    {
     "name": "stderr",
     "output_type": "stream",
     "text": [
      "[Stage 52:===============================================>        (11 + 2) / 13]\r"
     ]
    },
    {
     "name": "stdout",
     "output_type": "stream",
     "text": [
      "+-------------------+-------+\n",
      "|              month|  trips|\n",
      "+-------------------+-------+\n",
      "|2029-05-01 00:00:00|      1|\n",
      "|2021-12-01 00:00:00|      5|\n",
      "|2021-11-01 00:00:00|      5|\n",
      "|2021-10-01 00:00:00|      3|\n",
      "|2021-09-01 00:00:00|      3|\n",
      "|2021-08-01 00:00:00|     36|\n",
      "|2021-07-01 00:00:00|2821661|\n",
      "|2021-06-01 00:00:00|2834204|\n",
      "|2021-05-01 00:00:00|2507075|\n",
      "|2021-04-01 00:00:00|2171215|\n",
      "|2021-03-01 00:00:00|1925130|\n",
      "|2021-02-01 00:00:00|1371689|\n",
      "|2021-01-01 00:00:00|1369753|\n",
      "|2020-12-01 00:00:00|     16|\n",
      "|2009-01-01 00:00:00|    111|\n",
      "|2008-12-01 00:00:00|     26|\n",
      "|2004-04-01 00:00:00|      1|\n",
      "|2003-01-01 00:00:00|      1|\n",
      "|2002-12-01 00:00:00|      1|\n",
      "+-------------------+-------+\n",
      "\n"
     ]
    },
    {
     "name": "stderr",
     "output_type": "stream",
     "text": [
      "\r",
      "                                                                                \r"
     ]
    }
   ],
   "source": [
    "query = \"\"\"\n",
    "select \n",
    "    DATE_TRUNC(\"MM\", c.pickup_date) AS month, \n",
    "    COUNT(*) as trips \n",
    "from \n",
    "    comb c \n",
    "\n",
    "group by \n",
    "    month \n",
    "order by \n",
    "    month desc\n",
    "\"\"\"\n",
    "# 어떤 데이터가 가장 분포가 많은지 확인할 수 있음 \n",
    "spark.sql(query).show()"
   ]
  },
  {
   "cell_type": "markdown",
   "id": "38a143b9",
   "metadata": {},
   "source": [
    "### Cleaning"
   ]
  },
  {
   "cell_type": "code",
   "execution_count": 31,
   "id": "2090b9c8",
   "metadata": {},
   "outputs": [],
   "source": [
    "# 위에서 데이터를 확인해보면 이상한 데이터가 포함되어 있으므로 쿼리로 그것을 반영해서 진행하면 정제된 데이터를 얻을 수 있음 \n",
    "query =\"\"\"\n",
    "select \n",
    "    * \n",
    "from \n",
    "    comb c \n",
    "where \n",
    "    c.total_amount < 5000\n",
    "    and c.total_amount > 0 \n",
    "    and c.trip_distance < 100\n",
    "    and c.passenger_count < 4\n",
    "    and c.pickup_date >= '2021-01-01'\n",
    "    and c.pickup_date < '2021-08-01'\n",
    "\"\"\"\n",
    "\n",
    "cleaned_df = spark.sql(query)\n",
    "cleaned_df.createOrReplaceTempView(\"cleaned\")"
   ]
  },
  {
   "cell_type": "code",
   "execution_count": 33,
   "id": "3db50431",
   "metadata": {
    "scrolled": true
   },
   "outputs": [
    {
     "name": "stderr",
     "output_type": "stream",
     "text": [
      "[Stage 56:===================================================>    (12 + 1) / 13]\r"
     ]
    },
    {
     "name": "stdout",
     "output_type": "stream",
     "text": [
      "+-------+-------------------+------------------+-----------------+-----------------+------------------+------------------+------------------+-------------------+------------------+-------------------+--------------------+--------------------+\n",
      "|summary|          vendor_id|       pickup_time|     dropoff_time|  passenger_count|     trip_distance|       fare_amount|        tip_amount|       tolls_amount|      total_amount|       payment_type|         pickup_zone|        dropoff_zone|\n",
      "+-------+-------------------+------------------+-----------------+-----------------+------------------+------------------+------------------+-------------------+------------------+-------------------+--------------------+--------------------+\n",
      "|  count|           13297341|          13297341|         13297341|         13297341|          13297341|          13297341|          13297341|           13297341|          13297341|           13297341|            13297341|            13297341|\n",
      "|   mean| 1.6708780349394665|14.196708575045191|14.28282308470543|1.209083455105799|2.8381205084535317|12.161319642775922| 2.188533190959797|0.27013667694897864|18.072338205220102| 1.2470357795592366|                null|                null|\n",
      "| stddev|0.46989436449068234| 5.120949603224786|5.192125385712488|0.541690156885729|3.6243892031350953| 10.98618919636988|2.5778949502022965| 1.5421058637659115|13.263054604926216|0.45325331434527305|                null|                null|\n",
      "|    min|                  1|                 0|                0|              0.0|               0.0|              -0.8|               0.0|                0.0|              0.01|                  1|Allerton/Pelham G...|Allerton/Pelham G...|\n",
      "|    max|                  2|                23|               23|              3.0|             99.96|            4969.0|             700.0|             956.55|            4973.3|                  5|      Yorkville West|      Yorkville West|\n",
      "+-------+-------------------+------------------+-----------------+-----------------+------------------+------------------+------------------+-------------------+------------------+-------------------+--------------------+--------------------+\n",
      "\n"
     ]
    },
    {
     "name": "stderr",
     "output_type": "stream",
     "text": [
      "\r",
      "                                                                                \r"
     ]
    }
   ],
   "source": [
    "cleaned_df.describe().show()"
   ]
  },
  {
   "cell_type": "markdown",
   "id": "047b7df2",
   "metadata": {},
   "source": [
    "### Visualization"
   ]
  },
  {
   "cell_type": "code",
   "execution_count": 34,
   "id": "1eef8fa3",
   "metadata": {},
   "outputs": [],
   "source": [
    "import numpy as np\n",
    "import pandas as pd\n",
    "import seaborn as sns\n",
    "import matplotlib.pyplot as plt\n",
    "import matplotlib.dates as mdates"
   ]
  },
  {
   "cell_type": "code",
   "execution_count": 45,
   "id": "e9a7fec1",
   "metadata": {},
   "outputs": [],
   "source": [
    "query=\"\"\"\n",
    "select \n",
    "    c.pickup_date, \n",
    "    count(*) as trips\n",
    "from \n",
    "    cleaned c \n",
    "group by \n",
    "    c.pickup_date\n",
    "\"\"\""
   ]
  },
  {
   "cell_type": "code",
   "execution_count": 46,
   "id": "38b92f7c",
   "metadata": {},
   "outputs": [
    {
     "name": "stderr",
     "output_type": "stream",
     "text": [
      "                                                                                \r"
     ]
    }
   ],
   "source": [
    "pd_df = spark.sql(query).toPandas()\n",
    "# visualization을 사용해야 하기 때문에 toPandas() 함수 실행"
   ]
  },
  {
   "cell_type": "code",
   "execution_count": 40,
   "id": "839c9d8e",
   "metadata": {},
   "outputs": [
    {
     "data": {
      "text/plain": [
       "<AxesSubplot:xlabel='pickup_date', ylabel='trips'>"
      ]
     },
     "execution_count": 40,
     "metadata": {},
     "output_type": "execute_result"
    },
    {
     "data": {
      "image/png": "[encoded data removed]",
      "text/plain": [
       "<Figure size 1152x432 with 1 Axes>"
      ]
     },
     "metadata": {
      "needs_background": "light"
     },
     "output_type": "display_data"
    }
   ],
   "source": [
    "fig, ax = plt.subplots(figsize=(16,6))\n",
    "sns.lineplot(x=\"pickup_date\" , y=\"trips\", data=pd_df)\n",
    "# 시각화 진행 \n",
    "# 코로나 시기로 인해 택시 이용 수가 꾸준히 증가하고 있으며 요일마다 패턴이 조금씩 존재 "
   ]
  },
  {
   "cell_type": "code",
   "execution_count": 48,
   "id": "42e423a5",
   "metadata": {},
   "outputs": [
    {
     "name": "stderr",
     "output_type": "stream",
     "text": [
      "                                                                                \r"
     ]
    }
   ],
   "source": [
    "query = \"\"\"\n",
    "SELECT \n",
    "    c.pickup_date,\n",
    "    DATE_FORMAT(c.pickup_date, 'EEEE') AS day_of_week,\n",
    "    COUNT(*) AS trips\n",
    "FROM\n",
    "    cleaned c\n",
    "GROUP BY\n",
    "    c.pickup_date,\n",
    "    day_of_week\n",
    "\"\"\"\n",
    "pd_df2 = spark.sql(query).toPandas()"
   ]
  },
  {
   "cell_type": "code",
   "execution_count": 49,
   "id": "c405ca17",
   "metadata": {},
   "outputs": [],
   "source": [
    "data = pd_df2.groupby(\"day_of_week\").trips.median().to_frame().reset_index()\n",
    "# \n",
    "data[\"sort_dow\"] = data[\"day_of_week\"].replace({\n",
    "    \"Sunday\" : 0, \n",
    "    \"Monday\" : 1, \n",
    "    \"Tuesday\" : 2, \n",
    "    \"Wednesday\" : 3, \n",
    "    \"Thursday\" : 4,     \n",
    "    \"Friday\" : 5, \n",
    "    \"Saturday\" : 6    \n",
    "})"
   ]
  },
  {
   "cell_type": "code",
   "execution_count": 50,
   "id": "1ef2def8",
   "metadata": {},
   "outputs": [],
   "source": [
    "data.sort_values(by=\"sort_dow\", inplace = True)"
   ]
  },
  {
   "cell_type": "code",
   "execution_count": 56,
   "id": "ba546f39",
   "metadata": {},
   "outputs": [
    {
     "data": {
      "text/plain": [
       "<AxesSubplot:xlabel='day_of_week', ylabel='trips'>"
      ]
     },
     "execution_count": 56,
     "metadata": {},
     "output_type": "execute_result"
    },
    {
     "data": {
      "image/png": "[encoded data removed]",
      "text/plain": [
       "<Figure size 864x360 with 1 Axes>"
      ]
     },
     "metadata": {
      "needs_background": "light"
     },
     "output_type": "display_data"
    }
   ],
   "source": [
    "fig, ax = plt.subplots(figsize=(12,5))\n",
    "sns.barplot(\n",
    "    x = \"day_of_week\",\n",
    "    y = \"trips\",\n",
    "    data = data\n",
    ")\n",
    "# 요일 별 이용횟수를 볼 수 있음 "
   ]
  },
  {
   "cell_type": "code",
   "execution_count": 57,
   "id": "02aa595a",
   "metadata": {},
   "outputs": [
    {
     "data": {
      "text/plain": [
       "<function __main__.get_weekday(data)>"
      ]
     },
     "execution_count": 57,
     "metadata": {},
     "output_type": "execute_result"
    }
   ],
   "source": [
    "def get_weekday(data):\n",
    "    import calendar\n",
    "    return calendar.day_name(data.weekday())\n",
    "\n",
    "spark.udf.register(\"get_weekday\", get_weekday)\n",
    "# 사용자가 정의한 함수를 sql에서도 사용할 수 있도록 \n"
   ]
  },
  {
   "cell_type": "code",
   "execution_count": 58,
   "id": "6d4dc2b3",
   "metadata": {},
   "outputs": [],
   "source": [
    "query = \"\"\"\n",
    "SELECT \n",
    "    c.pickup_date,\n",
    "    get_weekday(c.pickup_date, 'EEEE') AS day_of_week,\n",
    "    COUNT(*) AS trips\n",
    "FROM\n",
    "    cleaned c\n",
    "GROUP BY\n",
    "    c.pickup_date,\n",
    "    day_of_week\n",
    "\"\"\"\n"
   ]
  },
  {
   "cell_type": "code",
   "execution_count": 59,
   "id": "48950d83",
   "metadata": {},
   "outputs": [
    {
     "data": {
      "text/plain": [
       "<function __main__.parse_payment_type(payment_type)>"
      ]
     },
     "execution_count": 59,
     "metadata": {},
     "output_type": "execute_result"
    }
   ],
   "source": [
    "payment_type_to_string = {\n",
    "    1: \"Credit Card\",\n",
    "    2: \"Cash\",\n",
    "    3: \"No Charge\",\n",
    "    4: \"Dispute\",\n",
    "    5: \"Unknown\",\n",
    "    6: \"Voided Trip\",\n",
    "}\n",
    "\n",
    "def parse_payment_type(payment_type):\n",
    "    return payment_type_to_string[payment_type]\n",
    "# 숫자로된 결제 타입을 문자로 변환 \n",
    "\n",
    "spark.udf.register(\"parse_payment_type\", parse_payment_type)"
   ]
  },
  {
   "cell_type": "code",
   "execution_count": 60,
   "id": "883fd112",
   "metadata": {},
   "outputs": [],
   "source": [
    "query=\"\"\"\n",
    "select \n",
    "    parse_payment_type(payment_type),\n",
    "    count(*) AS trips, \n",
    "    MEAN(fare_amount) as mean_fare_amount,\n",
    "    STD(fare_amount) as std_fare_amount\n",
    "from \n",
    "    cleaned c\n",
    "    \n",
    "group by \n",
    "    payment_type\n",
    "\n",
    "\"\"\""
   ]
  },
  {
   "cell_type": "code",
   "execution_count": 61,
   "id": "76e0019b",
   "metadata": {},
   "outputs": [
    {
     "name": "stderr",
     "output_type": "stream",
     "text": [
      "[Stage 80:===================================================>    (12 + 1) / 13]\r"
     ]
    },
    {
     "name": "stdout",
     "output_type": "stream",
     "text": [
      "+--------------------------------+--------+------------------+------------------+\n",
      "|parse_payment_type(payment_type)|   trips|  mean_fare_amount|   std_fare_amount|\n",
      "+--------------------------------+--------+------------------+------------------+\n",
      "|                     Credit Card|10118059|12.216703494217668|10.795006823047476|\n",
      "|                       No Charge|   58554|11.930768862929948|15.037653917600064|\n",
      "|                         Dispute|   23540|12.652123194562446|14.162625766142913|\n",
      "|                            Cash| 3097187|11.981015205087699|11.474080178274454|\n",
      "|                         Unknown|       1|              17.8|              null|\n",
      "+--------------------------------+--------+------------------+------------------+\n",
      "\n"
     ]
    },
    {
     "name": "stderr",
     "output_type": "stream",
     "text": [
      "\r",
      "                                                                                \r"
     ]
    }
   ],
   "source": [
    "spark.sql(query).show()"
   ]
  },
  {
   "cell_type": "code",
   "execution_count": null,
   "id": "041c3d90",
   "metadata": {},
   "outputs": [],
   "source": []
  }
 ],
 "metadata": {
  "kernelspec": {
   "display_name": "Python 3 (ipykernel)",
   "language": "python",
   "name": "python3"
  },
  "language_info": {
   "codemirror_mode": {
    "name": "ipython",
    "version": 3
   },
   "file_extension": ".py",
   "mimetype": "text/x-python",
   "name": "python",
   "nbconvert_exporter": "python",
   "pygments_lexer": "ipython3",
   "version": "3.9.12"
  }
 },
 "nbformat": 4,
 "nbformat_minor": 5
}

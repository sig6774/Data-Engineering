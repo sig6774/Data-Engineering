{
 "cells": [
  {
   "cell_type": "code",
   "execution_count": 3,
   "id": "65620dbc",
   "metadata": {},
   "outputs": [],
   "source": [
    "from pyspark.sql import SparkSession"
   ]
  },
  {
   "cell_type": "code",
   "execution_count": 4,
   "id": "9e7d5218",
   "metadata": {},
   "outputs": [
    {
     "name": "stdout",
     "output_type": "stream",
     "text": [
      "22/10/04 20:31:04 WARN Utils: Your hostname, Moon-2.local resolves to a loopback address: 127.0.0.1; using 192.168.0.4 instead (on interface en0)\n",
      "22/10/04 20:31:04 WARN Utils: Set SPARK_LOCAL_IP if you need to bind to another address\n"
     ]
    },
    {
     "name": "stderr",
     "output_type": "stream",
     "text": [
      "Setting default log level to \"WARN\".\n",
      "To adjust logging level use sc.setLogLevel(newLevel). For SparkR, use setLogLevel(newLevel).\n"
     ]
    },
    {
     "name": "stdout",
     "output_type": "stream",
     "text": [
      "22/10/04 20:31:05 WARN NativeCodeLoader: Unable to load native-hadoop library for your platform... using builtin-java classes where applicable\n"
     ]
    }
   ],
   "source": [
    "spark = SparkSession.builder.appName (\"trip_count_sql\").getOrCreate()\n",
    "# spark instance 생성 "
   ]
  },
  {
   "cell_type": "code",
   "execution_count": 5,
   "id": "655c9dc9",
   "metadata": {},
   "outputs": [],
   "source": [
    "directory = \"/Users/sig6774/Desktop/Data_Engineering/data-engineering-main/01-spark/data\"\n",
    "filename = \"tripdata_2021_1-7.csv\""
   ]
  },
  {
   "cell_type": "code",
   "execution_count": 6,
   "id": "54f344cf",
   "metadata": {},
   "outputs": [
    {
     "name": "stderr",
     "output_type": "stream",
     "text": [
      "                                                                                \r"
     ]
    }
   ],
   "source": [
    "data = spark.read.csv(f\"file:///{directory}/{filename}\", inferSchema = True, header = True)\n",
    "# 사전에 정의한 내용으로 csv파일을 읽어올 수 있음 \n",
    "# inferSchema : 자동으로 스키마를 추론할건지 \n",
    "# header : header 가지고 올 껀지 \n",
    "# DataFrame이 생김 "
   ]
  },
  {
   "cell_type": "code",
   "execution_count": 7,
   "id": "aa00b4d1",
   "metadata": {},
   "outputs": [
    {
     "name": "stdout",
     "output_type": "stream",
     "text": [
      "22/10/04 20:31:26 WARN CSVHeaderChecker: CSV header does not conform to the schema.\n",
      " Header: , VendorID, tpep_pickup_datetime, tpep_dropoff_datetime, passenger_count, trip_distance, RatecodeID, store_and_fwd_flag, PULocationID, DOLocationID, payment_type, fare_amount, extra, mta_tax, tip_amount, tolls_amount, improvement_surcharge, total_amount, congestion_surcharge, airport_fee\n",
      " Schema: _c0, VendorID, tpep_pickup_datetime, tpep_dropoff_datetime, passenger_count, trip_distance, RatecodeID, store_and_fwd_flag, PULocationID, DOLocationID, payment_type, fare_amount, extra, mta_tax, tip_amount, tolls_amount, improvement_surcharge, total_amount, congestion_surcharge, airport_fee\n",
      "Expected: _c0 but found: \n",
      "CSV file: file:///Users/sig6774/Desktop/Data_Engineering/data-engineering-main/01-spark/data/tripdata_2021_1-7.csv\n",
      "+---+--------+--------------------+---------------------+---------------+-------------+----------+------------------+------------+------------+------------+-----------+-----+-------+----------+------------+---------------------+------------+--------------------+-----------+\n",
      "|_c0|VendorID|tpep_pickup_datetime|tpep_dropoff_datetime|passenger_count|trip_distance|RatecodeID|store_and_fwd_flag|PULocationID|DOLocationID|payment_type|fare_amount|extra|mta_tax|tip_amount|tolls_amount|improvement_surcharge|total_amount|congestion_surcharge|airport_fee|\n",
      "+---+--------+--------------------+---------------------+---------------+-------------+----------+------------------+------------+------------+------------+-----------+-----+-------+----------+------------+---------------------+------------+--------------------+-----------+\n",
      "|  0|       1| 2021-01-01 00:30:10|  2021-01-01 00:36:12|            1.0|          2.1|       1.0|                 N|         142|          43|           2|        8.0|  3.0|    0.5|       0.0|         0.0|                  0.3|        11.8|                 2.5|       null|\n",
      "|  1|       1| 2021-01-01 00:51:20|  2021-01-01 00:52:19|            1.0|          0.2|       1.0|                 N|         238|         151|           2|        3.0|  0.5|    0.5|       0.0|         0.0|                  0.3|         4.3|                 0.0|       null|\n",
      "|  2|       1| 2021-01-01 00:43:30|  2021-01-01 01:11:06|            1.0|         14.7|       1.0|                 N|         132|         165|           1|       42.0|  0.5|    0.5|      8.65|         0.0|                  0.3|       51.95|                 0.0|       null|\n",
      "|  3|       1| 2021-01-01 00:15:48|  2021-01-01 00:31:01|            0.0|         10.6|       1.0|                 N|         138|         132|           1|       29.0|  0.5|    0.5|      6.05|         0.0|                  0.3|       36.35|                 0.0|       null|\n",
      "|  4|       2| 2021-01-01 00:31:49|  2021-01-01 00:48:21|            1.0|         4.94|       1.0|                 N|          68|          33|           1|       16.5|  0.5|    0.5|      4.06|         0.0|                  0.3|       24.36|                 2.5|       null|\n",
      "+---+--------+--------------------+---------------------+---------------+-------------+----------+------------------+------------+------------+------------+-----------+-----+-------+----------+------------+---------------------+------------+--------------------+-----------+\n",
      "only showing top 5 rows\n",
      "\n"
     ]
    }
   ],
   "source": [
    "data.show(5)\n",
    "# head()랑 비슷하다고 생각하면 됨 "
   ]
  },
  {
   "cell_type": "code",
   "execution_count": 8,
   "id": "66846770",
   "metadata": {},
   "outputs": [],
   "source": [
    "data.createOrReplaceTempView(\"mobility_data\")\n",
    "# 해당 df를 SQL에서 사용하기 위해서 temporaryView에 등록 "
   ]
  },
  {
   "cell_type": "code",
   "execution_count": 9,
   "id": "bebd69c9",
   "metadata": {},
   "outputs": [
    {
     "name": "stdout",
     "output_type": "stream",
     "text": [
      "22/10/04 20:31:27 WARN CSVHeaderChecker: CSV header does not conform to the schema.\n",
      " Header: , VendorID, tpep_pickup_datetime, tpep_dropoff_datetime, passenger_count, trip_distance, RatecodeID, store_and_fwd_flag, PULocationID, DOLocationID, payment_type, fare_amount, extra, mta_tax, tip_amount, tolls_amount, improvement_surcharge, total_amount, congestion_surcharge, airport_fee\n",
      " Schema: _c0, VendorID, tpep_pickup_datetime, tpep_dropoff_datetime, passenger_count, trip_distance, RatecodeID, store_and_fwd_flag, PULocationID, DOLocationID, payment_type, fare_amount, extra, mta_tax, tip_amount, tolls_amount, improvement_surcharge, total_amount, congestion_surcharge, airport_fee\n",
      "Expected: _c0 but found: \n",
      "CSV file: file:///Users/sig6774/Desktop/Data_Engineering/data-engineering-main/01-spark/data/tripdata_2021_1-7.csv\n",
      "+---+--------+--------------------+---------------------+---------------+-------------+----------+------------------+------------+------------+------------+-----------+-----+-------+----------+------------+---------------------+------------+--------------------+-----------+\n",
      "|_c0|VendorID|tpep_pickup_datetime|tpep_dropoff_datetime|passenger_count|trip_distance|RatecodeID|store_and_fwd_flag|PULocationID|DOLocationID|payment_type|fare_amount|extra|mta_tax|tip_amount|tolls_amount|improvement_surcharge|total_amount|congestion_surcharge|airport_fee|\n",
      "+---+--------+--------------------+---------------------+---------------+-------------+----------+------------------+------------+------------+------------+-----------+-----+-------+----------+------------+---------------------+------------+--------------------+-----------+\n",
      "|  0|       1| 2021-01-01 00:30:10|  2021-01-01 00:36:12|            1.0|          2.1|       1.0|                 N|         142|          43|           2|        8.0|  3.0|    0.5|       0.0|         0.0|                  0.3|        11.8|                 2.5|       null|\n",
      "|  1|       1| 2021-01-01 00:51:20|  2021-01-01 00:52:19|            1.0|          0.2|       1.0|                 N|         238|         151|           2|        3.0|  0.5|    0.5|       0.0|         0.0|                  0.3|         4.3|                 0.0|       null|\n",
      "|  2|       1| 2021-01-01 00:43:30|  2021-01-01 01:11:06|            1.0|         14.7|       1.0|                 N|         132|         165|           1|       42.0|  0.5|    0.5|      8.65|         0.0|                  0.3|       51.95|                 0.0|       null|\n",
      "|  3|       1| 2021-01-01 00:15:48|  2021-01-01 00:31:01|            0.0|         10.6|       1.0|                 N|         138|         132|           1|       29.0|  0.5|    0.5|      6.05|         0.0|                  0.3|       36.35|                 0.0|       null|\n",
      "|  4|       2| 2021-01-01 00:31:49|  2021-01-01 00:48:21|            1.0|         4.94|       1.0|                 N|          68|          33|           1|       16.5|  0.5|    0.5|      4.06|         0.0|                  0.3|       24.36|                 2.5|       null|\n",
      "+---+--------+--------------------+---------------------+---------------+-------------+----------+------------------+------------+------------+------------+-----------+-----+-------+----------+------------+---------------------+------------+--------------------+-----------+\n",
      "\n"
     ]
    }
   ],
   "source": [
    "spark.sql(\"select * from mobility_data limit 5\").show()"
   ]
  },
  {
   "cell_type": "code",
   "execution_count": 11,
   "id": "c985571d",
   "metadata": {},
   "outputs": [
    {
     "name": "stdout",
     "output_type": "stream",
     "text": [
      "+----------------------------------+\n",
      "|split(tpep_pickup_datetime,  , -1)|\n",
      "+----------------------------------+\n",
      "|              [2021-01-01, 00:3...|\n",
      "|              [2021-01-01, 00:5...|\n",
      "|              [2021-01-01, 00:4...|\n",
      "|              [2021-01-01, 00:1...|\n",
      "|              [2021-01-01, 00:3...|\n",
      "|              [2021-01-01, 00:1...|\n",
      "|              [2021-01-01, 00:0...|\n",
      "|              [2021-01-01, 00:1...|\n",
      "|              [2021-01-01, 00:3...|\n",
      "|              [2021-01-01, 00:2...|\n",
      "|              [2021-01-01, 00:1...|\n",
      "|              [2021-01-01, 00:4...|\n",
      "|              [2021-01-01, 00:1...|\n",
      "|              [2021-01-01, 00:3...|\n",
      "|              [2021-01-01, 00:4...|\n",
      "|              [2021-01-01, 00:1...|\n",
      "|              [2021-01-01, 00:3...|\n",
      "|              [2021-01-01, 00:4...|\n",
      "|              [2021-01-01, 00:0...|\n",
      "|              [2021-01-01, 00:1...|\n",
      "+----------------------------------+\n",
      "only showing top 20 rows\n",
      "\n"
     ]
    }
   ],
   "source": [
    "# 날짜와 시간을 분리\n",
    "spark.sql(\"select split(tpep_pickup_datetime, ' ') from mobility_data\").show()\n",
    "# 공백을 기준으로 데이터를 분리 \n",
    "# 원하는 컬럼을 split()안에 넣고 원하는 분리 조건을 작성하면 됨 "
   ]
  },
  {
   "cell_type": "code",
   "execution_count": 13,
   "id": "df546950",
   "metadata": {},
   "outputs": [
    {
     "name": "stdout",
     "output_type": "stream",
     "text": [
      "+-----------+\n",
      "|pickup_date|\n",
      "+-----------+\n",
      "| 2021-01-01|\n",
      "| 2021-01-01|\n",
      "| 2021-01-01|\n",
      "| 2021-01-01|\n",
      "| 2021-01-01|\n",
      "| 2021-01-01|\n",
      "| 2021-01-01|\n",
      "| 2021-01-01|\n",
      "| 2021-01-01|\n",
      "| 2021-01-01|\n",
      "| 2021-01-01|\n",
      "| 2021-01-01|\n",
      "| 2021-01-01|\n",
      "| 2021-01-01|\n",
      "| 2021-01-01|\n",
      "| 2021-01-01|\n",
      "| 2021-01-01|\n",
      "| 2021-01-01|\n",
      "| 2021-01-01|\n",
      "| 2021-01-01|\n",
      "+-----------+\n",
      "only showing top 20 rows\n",
      "\n"
     ]
    }
   ],
   "source": [
    "spark.sql(\"select split(tpep_pickup_datetime, ' ')[0] as pickup_date from mobility_data\").show()\n",
    "# 공백을 기준으로 데이터를 분리 \n",
    "# 원하는 컬럼을 split()안에 넣고 원하는 분리 조건을 작성하면 됨 \n",
    "# as로 컬럼명 변경 "
   ]
  },
  {
   "cell_type": "code",
   "execution_count": 17,
   "id": "74f8ed49",
   "metadata": {},
   "outputs": [
    {
     "name": "stderr",
     "output_type": "stream",
     "text": [
      "[Stage 16:=======================================>                 (9 + 4) / 13]\r"
     ]
    },
    {
     "name": "stdout",
     "output_type": "stream",
     "text": [
      "+-----------+-----+\n",
      "|pickup_date|trips|\n",
      "+-----------+-----+\n",
      "| 2021-01-15|53024|\n",
      "| 2021-01-12|50133|\n",
      "| 2021-01-11|46849|\n",
      "| 2021-01-20|49437|\n",
      "| 2021-01-24|31033|\n",
      "| 2021-01-10|29855|\n",
      "| 2021-01-13|51306|\n",
      "| 2021-02-22|50700|\n",
      "| 2009-01-01|  111|\n",
      "| 2021-01-28|56444|\n",
      "| 2021-01-26|47818|\n",
      "| 2021-01-27|52655|\n",
      "| 2021-01-22|54285|\n",
      "| 2021-01-21|53280|\n",
      "| 2021-01-25|47423|\n",
      "| 2021-01-03|26345|\n",
      "| 2021-02-01| 6806|\n",
      "| 2021-01-08|50477|\n",
      "| 2021-01-19|51149|\n",
      "| 2021-01-14|53051|\n",
      "+-----------+-----+\n",
      "only showing top 20 rows\n",
      "\n"
     ]
    },
    {
     "name": "stderr",
     "output_type": "stream",
     "text": [
      "\r",
      "[Stage 16:===========================================>            (10 + 3) / 13]\r",
      "\r",
      "                                                                                \r"
     ]
    }
   ],
   "source": [
    "spark.sql(\"select pickup_date, count(*) as trips from (select split(tpep_pickup_datetime, ' ')[0] as pickup_date from mobility_data) group by pickup_date\").show()\n",
    "# 공백을 기준으로 나눠진 데이터를 기준으로 그룹을 나누고 해당 날짜의 value의 count를 세줌 "
   ]
  },
  {
   "cell_type": "code",
   "execution_count": null,
   "id": "294b1015",
   "metadata": {},
   "outputs": [],
   "source": []
  }
 ],
 "metadata": {
  "kernelspec": {
   "display_name": "Python 3 (ipykernel)",
   "language": "python",
   "name": "python3"
  },
  "language_info": {
   "codemirror_mode": {
    "name": "ipython",
    "version": 3
   },
   "file_extension": ".py",
   "mimetype": "text/x-python",
   "name": "python",
   "nbconvert_exporter": "python",
   "pygments_lexer": "ipython3",
   "version": "3.9.12"
  }
 },
 "nbformat": 4,
 "nbformat_minor": 5
}

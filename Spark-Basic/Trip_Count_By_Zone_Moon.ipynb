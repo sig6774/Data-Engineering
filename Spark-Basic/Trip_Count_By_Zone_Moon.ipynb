{
 "cells": [
  {
   "cell_type": "code",
   "execution_count": 1,
   "id": "65620dbc",
   "metadata": {},
   "outputs": [],
   "source": [
    "from pyspark.sql import SparkSession"
   ]
  },
  {
   "cell_type": "code",
   "execution_count": 3,
   "id": "9e7d5218",
   "metadata": {},
   "outputs": [
    {
     "name": "stdout",
     "output_type": "stream",
     "text": [
      "22/10/04 20:49:05 WARN SparkSession: Using an existing Spark session; only runtime SQL configurations will take effect.\n"
     ]
    }
   ],
   "source": [
    "spark = SparkSession.builder.appName (\"trip_count_by_zone_sql\").getOrCreate()\n",
    "# spark instance 생성 "
   ]
  },
  {
   "cell_type": "code",
   "execution_count": 6,
   "id": "655c9dc9",
   "metadata": {},
   "outputs": [],
   "source": [
    "directory = \"/Users/sig6774/Desktop/Data_Engineering/data-engineering-main/01-spark/data\"\n",
    "trip_file = \"tripdata_2021_1-7.csv\"\n",
    "zone_file = \"taxi+_zone_lookup.csv\""
   ]
  },
  {
   "cell_type": "code",
   "execution_count": 7,
   "id": "54f344cf",
   "metadata": {},
   "outputs": [
    {
     "name": "stderr",
     "output_type": "stream",
     "text": [
      "                                                                                \r"
     ]
    }
   ],
   "source": [
    "trip_data = spark.read.csv(f\"file:///{directory}/{trip_file}\", inferSchema = True, header = True)\n",
    "zone_data = spark.read.csv(f\"file:///{directory}/{zone_file}\", inferSchema = True, header = True)\n",
    "# 사전에 정의한 내용으로 csv파일을 읽어올 수 있음 \n",
    "# inferSchema : 자동으로 스키마를 추론할건지 \n",
    "# header : header 가지고 올 껀지 \n",
    "# DataFrame이 생김 "
   ]
  },
  {
   "cell_type": "code",
   "execution_count": 7,
   "id": "aa00b4d1",
   "metadata": {
    "scrolled": true
   },
   "outputs": [
    {
     "name": "stdout",
     "output_type": "stream",
     "text": [
      "22/10/04 20:31:26 WARN CSVHeaderChecker: CSV header does not conform to the schema.\n",
      " Header: , VendorID, tpep_pickup_datetime, tpep_dropoff_datetime, passenger_count, trip_distance, RatecodeID, store_and_fwd_flag, PULocationID, DOLocationID, payment_type, fare_amount, extra, mta_tax, tip_amount, tolls_amount, improvement_surcharge, total_amount, congestion_surcharge, airport_fee\n",
      " Schema: _c0, VendorID, tpep_pickup_datetime, tpep_dropoff_datetime, passenger_count, trip_distance, RatecodeID, store_and_fwd_flag, PULocationID, DOLocationID, payment_type, fare_amount, extra, mta_tax, tip_amount, tolls_amount, improvement_surcharge, total_amount, congestion_surcharge, airport_fee\n",
      "Expected: _c0 but found: \n",
      "CSV file: file:///Users/sig6774/Desktop/Data_Engineering/data-engineering-main/01-spark/data/tripdata_2021_1-7.csv\n",
      "+---+--------+--------------------+---------------------+---------------+-------------+----------+------------------+------------+------------+------------+-----------+-----+-------+----------+------------+---------------------+------------+--------------------+-----------+\n",
      "|_c0|VendorID|tpep_pickup_datetime|tpep_dropoff_datetime|passenger_count|trip_distance|RatecodeID|store_and_fwd_flag|PULocationID|DOLocationID|payment_type|fare_amount|extra|mta_tax|tip_amount|tolls_amount|improvement_surcharge|total_amount|congestion_surcharge|airport_fee|\n",
      "+---+--------+--------------------+---------------------+---------------+-------------+----------+------------------+------------+------------+------------+-----------+-----+-------+----------+------------+---------------------+------------+--------------------+-----------+\n",
      "|  0|       1| 2021-01-01 00:30:10|  2021-01-01 00:36:12|            1.0|          2.1|       1.0|                 N|         142|          43|           2|        8.0|  3.0|    0.5|       0.0|         0.0|                  0.3|        11.8|                 2.5|       null|\n",
      "|  1|       1| 2021-01-01 00:51:20|  2021-01-01 00:52:19|            1.0|          0.2|       1.0|                 N|         238|         151|           2|        3.0|  0.5|    0.5|       0.0|         0.0|                  0.3|         4.3|                 0.0|       null|\n",
      "|  2|       1| 2021-01-01 00:43:30|  2021-01-01 01:11:06|            1.0|         14.7|       1.0|                 N|         132|         165|           1|       42.0|  0.5|    0.5|      8.65|         0.0|                  0.3|       51.95|                 0.0|       null|\n",
      "|  3|       1| 2021-01-01 00:15:48|  2021-01-01 00:31:01|            0.0|         10.6|       1.0|                 N|         138|         132|           1|       29.0|  0.5|    0.5|      6.05|         0.0|                  0.3|       36.35|                 0.0|       null|\n",
      "|  4|       2| 2021-01-01 00:31:49|  2021-01-01 00:48:21|            1.0|         4.94|       1.0|                 N|          68|          33|           1|       16.5|  0.5|    0.5|      4.06|         0.0|                  0.3|       24.36|                 2.5|       null|\n",
      "+---+--------+--------------------+---------------------+---------------+-------------+----------+------------------+------------+------------+------------+-----------+-----+-------+----------+------------+---------------------+------------+--------------------+-----------+\n",
      "only showing top 5 rows\n",
      "\n"
     ]
    }
   ],
   "source": [
    "trip_data.show(5)\n",
    "# head()랑 비슷하다고 생각하면 됨 "
   ]
  },
  {
   "cell_type": "code",
   "execution_count": 8,
   "id": "2c40f1a6",
   "metadata": {},
   "outputs": [
    {
     "name": "stdout",
     "output_type": "stream",
     "text": [
      "+----------+-------------+--------------------+------------+\n",
      "|LocationID|      Borough|                Zone|service_zone|\n",
      "+----------+-------------+--------------------+------------+\n",
      "|         1|          EWR|      Newark Airport|         EWR|\n",
      "|         2|       Queens|         Jamaica Bay|   Boro Zone|\n",
      "|         3|        Bronx|Allerton/Pelham G...|   Boro Zone|\n",
      "|         4|    Manhattan|       Alphabet City| Yellow Zone|\n",
      "|         5|Staten Island|       Arden Heights|   Boro Zone|\n",
      "+----------+-------------+--------------------+------------+\n",
      "only showing top 5 rows\n",
      "\n"
     ]
    }
   ],
   "source": [
    "zone_data.show(5)"
   ]
  },
  {
   "cell_type": "code",
   "execution_count": 9,
   "id": "66846770",
   "metadata": {},
   "outputs": [],
   "source": [
    "# sql을 사용하기 위해 TempView 등록 \n",
    "trip_data.createOrReplaceTempView(\"trip_data\")\n",
    "zone_data.createOrReplaceTempView(\"zone_data\")\n",
    "# 해당 df를 SQL에서 사용하기 위해서 temporaryView에 등록 "
   ]
  },
  {
   "cell_type": "code",
   "execution_count": 10,
   "id": "bebd69c9",
   "metadata": {
    "scrolled": true
   },
   "outputs": [
    {
     "name": "stdout",
     "output_type": "stream",
     "text": [
      "22/10/04 20:52:19 WARN CSVHeaderChecker: CSV header does not conform to the schema.\n",
      " Header: , VendorID, tpep_pickup_datetime, tpep_dropoff_datetime, passenger_count, trip_distance, RatecodeID, store_and_fwd_flag, PULocationID, DOLocationID, payment_type, fare_amount, extra, mta_tax, tip_amount, tolls_amount, improvement_surcharge, total_amount, congestion_surcharge, airport_fee\n",
      " Schema: _c0, VendorID, tpep_pickup_datetime, tpep_dropoff_datetime, passenger_count, trip_distance, RatecodeID, store_and_fwd_flag, PULocationID, DOLocationID, payment_type, fare_amount, extra, mta_tax, tip_amount, tolls_amount, improvement_surcharge, total_amount, congestion_surcharge, airport_fee\n",
      "Expected: _c0 but found: \n",
      "CSV file: file:///Users/sig6774/Desktop/Data_Engineering/data-engineering-main/01-spark/data/tripdata_2021_1-7.csv\n"
     ]
    },
    {
     "name": "stderr",
     "output_type": "stream",
     "text": [
      "[Stage 5:===================================>                      (8 + 5) / 13]\r"
     ]
    },
    {
     "name": "stdout",
     "output_type": "stream",
     "text": [
      "+---+--------+--------------------+---------------------+---------------+-------------+----------+------------------+------------+------------+------------+-----------+-----+-------+----------+------------+---------------------+------------+--------------------+-----------+\n",
      "|_c0|VendorID|tpep_pickup_datetime|tpep_dropoff_datetime|passenger_count|trip_distance|RatecodeID|store_and_fwd_flag|PULocationID|DOLocationID|payment_type|fare_amount|extra|mta_tax|tip_amount|tolls_amount|improvement_surcharge|total_amount|congestion_surcharge|airport_fee|\n",
      "+---+--------+--------------------+---------------------+---------------+-------------+----------+------------------+------------+------------+------------+-----------+-----+-------+----------+------------+---------------------+------------+--------------------+-----------+\n",
      "|  0|       1| 2021-01-01 00:30:10|  2021-01-01 00:36:12|            1.0|          2.1|       1.0|                 N|         142|          43|           2|        8.0|  3.0|    0.5|       0.0|         0.0|                  0.3|        11.8|                 2.5|       null|\n",
      "|  1|       1| 2021-01-01 00:51:20|  2021-01-01 00:52:19|            1.0|          0.2|       1.0|                 N|         238|         151|           2|        3.0|  0.5|    0.5|       0.0|         0.0|                  0.3|         4.3|                 0.0|       null|\n",
      "|  2|       1| 2021-01-01 00:43:30|  2021-01-01 01:11:06|            1.0|         14.7|       1.0|                 N|         132|         165|           1|       42.0|  0.5|    0.5|      8.65|         0.0|                  0.3|       51.95|                 0.0|       null|\n",
      "|  3|       1| 2021-01-01 00:15:48|  2021-01-01 00:31:01|            0.0|         10.6|       1.0|                 N|         138|         132|           1|       29.0|  0.5|    0.5|      6.05|         0.0|                  0.3|       36.35|                 0.0|       null|\n",
      "|  4|       2| 2021-01-01 00:31:49|  2021-01-01 00:48:21|            1.0|         4.94|       1.0|                 N|          68|          33|           1|       16.5|  0.5|    0.5|      4.06|         0.0|                  0.3|       24.36|                 2.5|       null|\n",
      "+---+--------+--------------------+---------------------+---------------+-------------+----------+------------------+------------+------------+------------+-----------+-----+-------+----------+------------+---------------------+------------+--------------------+-----------+\n",
      "\n"
     ]
    },
    {
     "name": "stderr",
     "output_type": "stream",
     "text": [
      "\r",
      "                                                                                \r"
     ]
    }
   ],
   "source": [
    "spark.sql(\"select * from trip_data limit 5\").show()"
   ]
  },
  {
   "cell_type": "code",
   "execution_count": 11,
   "id": "2f9a1e40",
   "metadata": {
    "scrolled": true
   },
   "outputs": [
    {
     "name": "stdout",
     "output_type": "stream",
     "text": [
      "+----------+-------------+--------------------+------------+\n",
      "|LocationID|      Borough|                Zone|service_zone|\n",
      "+----------+-------------+--------------------+------------+\n",
      "|         1|          EWR|      Newark Airport|         EWR|\n",
      "|         2|       Queens|         Jamaica Bay|   Boro Zone|\n",
      "|         3|        Bronx|Allerton/Pelham G...|   Boro Zone|\n",
      "|         4|    Manhattan|       Alphabet City| Yellow Zone|\n",
      "|         5|Staten Island|       Arden Heights|   Boro Zone|\n",
      "+----------+-------------+--------------------+------------+\n",
      "\n"
     ]
    }
   ],
   "source": [
    "spark.sql(\"select * from zone_data limit 5\").show()"
   ]
  },
  {
   "cell_type": "code",
   "execution_count": 16,
   "id": "66c1a274",
   "metadata": {},
   "outputs": [
    {
     "name": "stderr",
     "output_type": "stream",
     "text": [
      "[Stage 20:===========================================>            (10 + 3) / 13]\r"
     ]
    },
    {
     "name": "stdout",
     "output_type": "stream",
     "text": [
      "+-------------+--------+\n",
      "|      borough|count(1)|\n",
      "+-------------+--------+\n",
      "|       Queens|  890742|\n",
      "|          EWR|     793|\n",
      "|      Unknown|  189197|\n",
      "|     Brooklyn|  224576|\n",
      "|Staten Island|    2195|\n",
      "|    Manhattan|13597968|\n",
      "|        Bronx|   95465|\n",
      "+-------------+--------+\n",
      "\n"
     ]
    },
    {
     "name": "stderr",
     "output_type": "stream",
     "text": [
      "\r",
      "                                                                                \r"
     ]
    }
   ],
   "source": [
    "# 맨하탄에서 승차하는 승객이 몇명이였는지 확인 \n",
    "spark.sql(\"select borough, count(*) from (select zone_data.Borough as borough from trip_data join zone_data on trip_data.PULocationID = zone_data.LocationId) group by borough\").show()  \n",
    "# 2개의 테이블을 조인한 결과로 borough별로 승차한 승객이 몇명이였는지 확인할 수 있음 "
   ]
  },
  {
   "cell_type": "code",
   "execution_count": 17,
   "id": "294b1015",
   "metadata": {},
   "outputs": [
    {
     "name": "stderr",
     "output_type": "stream",
     "text": [
      "[Stage 24:===========================================>            (10 + 3) / 13]\r"
     ]
    },
    {
     "name": "stdout",
     "output_type": "stream",
     "text": [
      "+-------------+--------+\n",
      "|      borough|count(1)|\n",
      "+-------------+--------+\n",
      "|       Queens|  665625|\n",
      "|          EWR|   17660|\n",
      "|      Unknown|  136029|\n",
      "|     Brooklyn|  653582|\n",
      "|Staten Island|    5891|\n",
      "|    Manhattan|13302635|\n",
      "|        Bronx|  219514|\n",
      "+-------------+--------+\n",
      "\n"
     ]
    },
    {
     "name": "stderr",
     "output_type": "stream",
     "text": [
      "\r",
      "                                                                                \r"
     ]
    }
   ],
   "source": [
    "# 맨하탄에서 승차하는 승객이 몇명이였는지 확인 \n",
    "spark.sql(\"select borough, count(*) from (select zone_data.Borough as borough from trip_data join zone_data on trip_data.DOLocationID = zone_data.LocationId) group by borough\").show()  \n",
    "# 2개의 테이블을 조인한 결과로 borough별로 하차한 승객이 몇명이였는지 확인할 수 있음 "
   ]
  },
  {
   "cell_type": "code",
   "execution_count": null,
   "id": "87335bf4",
   "metadata": {},
   "outputs": [],
   "source": []
  }
 ],
 "metadata": {
  "kernelspec": {
   "display_name": "Python 3 (ipykernel)",
   "language": "python",
   "name": "python3"
  },
  "language_info": {
   "codemirror_mode": {
    "name": "ipython",
    "version": 3
   },
   "file_extension": ".py",
   "mimetype": "text/x-python",
   "name": "python",
   "nbconvert_exporter": "python",
   "pygments_lexer": "ipython3",
   "version": "3.9.12"
  }
 },
 "nbformat": 4,
 "nbformat_minor": 5
}

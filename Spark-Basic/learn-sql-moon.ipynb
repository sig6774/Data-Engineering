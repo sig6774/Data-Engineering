{
 "cells": [
  {
   "cell_type": "code",
   "execution_count": 4,
   "id": "8f22f8e9",
   "metadata": {},
   "outputs": [],
   "source": [
    "from pyspark.sql import SparkSession"
   ]
  },
  {
   "cell_type": "code",
   "execution_count": 11,
   "id": "a5609038",
   "metadata": {},
   "outputs": [],
   "source": [
    "from pyspark.sql import SparkSession\n",
    "\n",
    "def patch_pyspark_accumulators():\n",
    "    from inspect import getsource\n",
    "    import pyspark.accumulators as pa\n",
    "    exec(getsource(pa._start_update_server).replace(\"localhost\", \"127.0.0.1\"), pa.__dict__)\n",
    "\n",
    "patch_pyspark_accumulators()\n",
    "spark = SparkSession.builder.getOrCreate()\n",
    "# sparkSession [Errno 8] nodename nor servname provided, or not known 가 발생하게 된다면 해당 코드 작성 \n",
    "# vpn을 사용하거나 했을 때 localhost 주소가 달라져서 그런 것 같음 "
   ]
  },
  {
   "cell_type": "code",
   "execution_count": 12,
   "id": "722006c5",
   "metadata": {},
   "outputs": [],
   "source": [
    "spark = SparkSession.builder.master(\"local\").appName(\"learn-sql\").getOrCreate()"
   ]
  },
  {
   "cell_type": "code",
   "execution_count": 13,
   "id": "f4926d39",
   "metadata": {},
   "outputs": [],
   "source": [
    "stocks = [\n",
    "    ('Google', 'GOOGL', 'USA', 2984, 'USD'), \n",
    "    ('Netflix', 'NFLX', 'USA', 645, 'USD'),\n",
    "    ('Amazon', 'AMZN', 'USA', 3518, 'USD'),\n",
    "    ('Tesla', 'TSLA', 'USA', 1222, 'USD'),\n",
    "    ('Tencent', '0700', 'Hong Kong', 483, 'HKD'),\n",
    "    ('Toyota', '7203', 'Japan', 2006, 'JPY'),\n",
    "    ('Samsung', '005930', 'Korea', 70600, 'KRW'),\n",
    "    ('Kakao', '035720', 'Korea', 125000, 'KRW'),\n",
    "]"
   ]
  },
  {
   "cell_type": "code",
   "execution_count": 14,
   "id": "80ea39db",
   "metadata": {},
   "outputs": [],
   "source": [
    "# 스키마 지정 \n",
    "stockSchema = [\"name\", \"ticker\", \"country\", \"price\", \"currency\"]"
   ]
  },
  {
   "cell_type": "code",
   "execution_count": 15,
   "id": "6a23af1d",
   "metadata": {},
   "outputs": [],
   "source": [
    "# DataFrame 생성 \n",
    "df = spark.createDataFrame(data=stocks, schema = stockSchema)\n",
    "# data와 schema 지정 "
   ]
  },
  {
   "cell_type": "code",
   "execution_count": 16,
   "id": "bff09cb4",
   "metadata": {},
   "outputs": [
    {
     "name": "stdout",
     "output_type": "stream",
     "text": [
      "[('name', 'string'), ('ticker', 'string'), ('country', 'string'), ('price', 'bigint'), ('currency', 'string')]\n"
     ]
    }
   ],
   "source": [
    "print(df.dtypes)"
   ]
  },
  {
   "cell_type": "code",
   "execution_count": 17,
   "id": "2b198ab3",
   "metadata": {},
   "outputs": [
    {
     "name": "stderr",
     "output_type": "stream",
     "text": [
      "\r",
      "[Stage 0:>                                                          (0 + 0) / 1]\r",
      "\r",
      "[Stage 0:>                                                          (0 + 1) / 1]\r"
     ]
    },
    {
     "name": "stdout",
     "output_type": "stream",
     "text": [
      "+-------+------+---------+------+--------+\n",
      "|   name|ticker|  country| price|currency|\n",
      "+-------+------+---------+------+--------+\n",
      "| Google| GOOGL|      USA|  2984|     USD|\n",
      "|Netflix|  NFLX|      USA|   645|     USD|\n",
      "| Amazon|  AMZN|      USA|  3518|     USD|\n",
      "|  Tesla|  TSLA|      USA|  1222|     USD|\n",
      "|Tencent|  0700|Hong Kong|   483|     HKD|\n",
      "| Toyota|  7203|    Japan|  2006|     JPY|\n",
      "|Samsung|005930|    Korea| 70600|     KRW|\n",
      "|  Kakao|035720|    Korea|125000|     KRW|\n",
      "+-------+------+---------+------+--------+\n",
      "\n",
      "None\n"
     ]
    },
    {
     "name": "stderr",
     "output_type": "stream",
     "text": [
      "\r",
      "                                                                                \r"
     ]
    }
   ],
   "source": [
    "print(df.show())"
   ]
  },
  {
   "cell_type": "code",
   "execution_count": 18,
   "id": "38508b1d",
   "metadata": {},
   "outputs": [],
   "source": [
    "# spark sql 실행 \n",
    "df.createOrReplaceTempView(\"stocks\")\n",
    "# df를 temporary View로 등록 "
   ]
  },
  {
   "cell_type": "code",
   "execution_count": 20,
   "id": "cd6dc93f",
   "metadata": {},
   "outputs": [
    {
     "name": "stdout",
     "output_type": "stream",
     "text": [
      "+-------+\n",
      "|   name|\n",
      "+-------+\n",
      "| Google|\n",
      "|Netflix|\n",
      "| Amazon|\n",
      "|  Tesla|\n",
      "|Tencent|\n",
      "| Toyota|\n",
      "|Samsung|\n",
      "|  Kakao|\n",
      "+-------+\n",
      "\n"
     ]
    }
   ],
   "source": [
    "spark.sql(\"select name from stocks\").show()\n",
    "# spark로 sql을 실행할 수 있음"
   ]
  },
  {
   "cell_type": "code",
   "execution_count": 21,
   "id": "7c634452",
   "metadata": {},
   "outputs": [
    {
     "name": "stdout",
     "output_type": "stream",
     "text": [
      "+-------+------+\n",
      "|   name| price|\n",
      "+-------+------+\n",
      "| Google|  2984|\n",
      "|Netflix|   645|\n",
      "| Amazon|  3518|\n",
      "|  Tesla|  1222|\n",
      "|Tencent|   483|\n",
      "| Toyota|  2006|\n",
      "|Samsung| 70600|\n",
      "|  Kakao|125000|\n",
      "+-------+------+\n",
      "\n"
     ]
    }
   ],
   "source": [
    "spark.sql(\"select name, price from stocks\").show()"
   ]
  },
  {
   "cell_type": "code",
   "execution_count": 22,
   "id": "bb0250de",
   "metadata": {},
   "outputs": [
    {
     "name": "stdout",
     "output_type": "stream",
     "text": [
      "+-------+------+\n",
      "|   name| price|\n",
      "+-------+------+\n",
      "|Samsung| 70600|\n",
      "|  Kakao|125000|\n",
      "+-------+------+\n",
      "\n"
     ]
    }
   ],
   "source": [
    "spark.sql(\"select name, price from stocks where country = 'Korea'\").show()\n",
    "# 조건문 지정 가능 (해당 주식의 나라가 Korea인 것만 )"
   ]
  },
  {
   "cell_type": "code",
   "execution_count": 23,
   "id": "3173b2b4",
   "metadata": {},
   "outputs": [
    {
     "name": "stdout",
     "output_type": "stream",
     "text": [
      "+-------+------+\n",
      "|   name| price|\n",
      "+-------+------+\n",
      "| Google|  2984|\n",
      "| Amazon|  3518|\n",
      "| Toyota|  2006|\n",
      "|Samsung| 70600|\n",
      "|  Kakao|125000|\n",
      "+-------+------+\n",
      "\n"
     ]
    }
   ],
   "source": [
    "spark.sql(\"select name, price from stocks where price > 2000\").show()\n",
    "# 조건문 지정 가능 (해당 주식의 가격이 2000 초과인 것만 )"
   ]
  },
  {
   "cell_type": "code",
   "execution_count": 24,
   "id": "4aa7ab2d",
   "metadata": {},
   "outputs": [
    {
     "name": "stdout",
     "output_type": "stream",
     "text": [
      "+------+-----+\n",
      "|  name|price|\n",
      "+------+-----+\n",
      "|Google| 2984|\n",
      "|Amazon| 3518|\n",
      "+------+-----+\n",
      "\n"
     ]
    }
   ],
   "source": [
    "spark.sql(\"select name, price from stocks where price > 2000 and country = 'USA'\").show()\n",
    "# 조건문 지정 가능 (해당 주식의 가격이 2000 초과인 것과 나라가 USA인 것만 )"
   ]
  },
  {
   "cell_type": "code",
   "execution_count": 26,
   "id": "dbbea80c",
   "metadata": {},
   "outputs": [
    {
     "name": "stdout",
     "output_type": "stream",
     "text": [
      "+-------+-----+\n",
      "|   name|price|\n",
      "+-------+-----+\n",
      "| Google| 2984|\n",
      "|Netflix|  645|\n",
      "| Amazon| 3518|\n",
      "|  Tesla| 1222|\n",
      "+-------+-----+\n",
      "\n"
     ]
    }
   ],
   "source": [
    "spark.sql(\"select name, price from stocks where country like 'U%'\").show()\n",
    "# 나라 이름이 U로 시작하는 모든 주식의 이름과 가격 "
   ]
  },
  {
   "cell_type": "code",
   "execution_count": 28,
   "id": "33509460",
   "metadata": {},
   "outputs": [
    {
     "name": "stdout",
     "output_type": "stream",
     "text": [
      "+------+-----+\n",
      "|  name|price|\n",
      "+------+-----+\n",
      "|Amazon| 3518|\n",
      "+------+-----+\n",
      "\n"
     ]
    }
   ],
   "source": [
    "spark.sql(\"select name, price from stocks where country like 'U%' and name not like '%e%'\").show()\n",
    "# 나라 이름이 U로 시작하고 주식의 이름에 e가 들어가지 않는 모든 주식의 이름과 가격 "
   ]
  },
  {
   "cell_type": "code",
   "execution_count": 29,
   "id": "fa119e3e",
   "metadata": {},
   "outputs": [
    {
     "name": "stdout",
     "output_type": "stream",
     "text": [
      "+------+-----+\n",
      "|  name|price|\n",
      "+------+-----+\n",
      "|Google| 2984|\n",
      "|Amazon| 3518|\n",
      "| Tesla| 1222|\n",
      "|Toyota| 2006|\n",
      "+------+-----+\n",
      "\n"
     ]
    }
   ],
   "source": [
    "spark.sql(\"select name, price from stocks where price between 1000 and 10000\").show()\n",
    "# 가격이 1000에서 10000사이의 모든 주식의 이름과 가격 "
   ]
  },
  {
   "cell_type": "code",
   "execution_count": 30,
   "id": "77630798",
   "metadata": {},
   "outputs": [
    {
     "name": "stdout",
     "output_type": "stream",
     "text": [
      "+-------+-----+\n",
      "|   name|price|\n",
      "+-------+-----+\n",
      "| Google| 2984|\n",
      "|Netflix|  645|\n",
      "| Amazon| 3518|\n",
      "|  Tesla| 1222|\n",
      "+-------+-----+\n",
      "\n"
     ]
    }
   ],
   "source": [
    "spark.sql(\"select name, price from stocks where country = 'USA'\").show()"
   ]
  },
  {
   "cell_type": "code",
   "execution_count": 33,
   "id": "b78c73df",
   "metadata": {},
   "outputs": [
    {
     "name": "stdout",
     "output_type": "stream",
     "text": [
      "+------+-----+--------+\n",
      "|  name|price|currency|\n",
      "+------+-----+--------+\n",
      "|Google| 2984|     USD|\n",
      "|Amazon| 3518|     USD|\n",
      "+------+-----+--------+\n",
      "\n"
     ]
    }
   ],
   "source": [
    "spark.sql(\"select name, price, currency from stocks where currency = 'USD' and price > (select price from stocks where name='Tesla')\").show()\n",
    "# 서브쿼리도 사용할 수 있음 \n",
    "# 테슬라보다 주식의 가격이 높으면서 currency가 USD인 주식의 이름, 가격, 화폐\n"
   ]
  },
  {
   "cell_type": "code",
   "execution_count": 34,
   "id": "f40c2c4e",
   "metadata": {},
   "outputs": [
    {
     "name": "stdout",
     "output_type": "stream",
     "text": [
      "+-------+------+\n",
      "|   name| price|\n",
      "+-------+------+\n",
      "|Tencent|   483|\n",
      "|Netflix|   645|\n",
      "|  Tesla|  1222|\n",
      "| Toyota|  2006|\n",
      "| Google|  2984|\n",
      "| Amazon|  3518|\n",
      "|Samsung| 70600|\n",
      "|  Kakao|125000|\n",
      "+-------+------+\n",
      "\n"
     ]
    }
   ],
   "source": [
    "spark.sql(\"select name, price from stocks order by price asc\").show()\n",
    "# order by를 사용해서 정렬 가능 "
   ]
  },
  {
   "cell_type": "code",
   "execution_count": 35,
   "id": "9515c21c",
   "metadata": {},
   "outputs": [
    {
     "name": "stdout",
     "output_type": "stream",
     "text": [
      "+-------+------+\n",
      "|   name| price|\n",
      "+-------+------+\n",
      "|  Tesla|  1222|\n",
      "|  Kakao|125000|\n",
      "| Amazon|  3518|\n",
      "| Toyota|  2006|\n",
      "| Google|  2984|\n",
      "|Netflix|   645|\n",
      "|Samsung| 70600|\n",
      "|Tencent|   483|\n",
      "+-------+------+\n",
      "\n"
     ]
    }
   ],
   "source": [
    "spark.sql(\"select name, price from stocks order by length(name)\").show()\n"
   ]
  },
  {
   "cell_type": "code",
   "execution_count": 36,
   "id": "e948954e",
   "metadata": {},
   "outputs": [
    {
     "name": "stdout",
     "output_type": "stream",
     "text": [
      "+----------+\n",
      "|sum(price)|\n",
      "+----------+\n",
      "|    195600|\n",
      "+----------+\n",
      "\n"
     ]
    }
   ],
   "source": [
    "spark.sql(\"select sum(price) from stocks where country ='Korea'\").show()\n",
    "# 한국에 있는 주식의 가격의 합 "
   ]
  },
  {
   "cell_type": "code",
   "execution_count": 37,
   "id": "ae490354",
   "metadata": {},
   "outputs": [
    {
     "name": "stdout",
     "output_type": "stream",
     "text": [
      "+-----------+\n",
      "|mean(price)|\n",
      "+-----------+\n",
      "|    97800.0|\n",
      "+-----------+\n",
      "\n"
     ]
    }
   ],
   "source": [
    "spark.sql(\"select mean(price) from stocks where country ='Korea'\").show()"
   ]
  },
  {
   "cell_type": "code",
   "execution_count": 38,
   "id": "2e7eebbb",
   "metadata": {},
   "outputs": [
    {
     "name": "stdout",
     "output_type": "stream",
     "text": [
      "+------------+\n",
      "|count(price)|\n",
      "+------------+\n",
      "|           2|\n",
      "+------------+\n",
      "\n"
     ]
    }
   ],
   "source": [
    "spark.sql(\"select count(price) from stocks where country ='Korea'\").show()"
   ]
  },
  {
   "cell_type": "code",
   "execution_count": 39,
   "id": "9cde2218",
   "metadata": {
    "scrolled": true
   },
   "outputs": [
    {
     "name": "stdout",
     "output_type": "stream",
     "text": [
      "+------------+\n",
      "|count(price)|\n",
      "+------------+\n",
      "|           6|\n",
      "+------------+\n",
      "\n"
     ]
    }
   ],
   "source": [
    "spark.sql(\"select count(price) from stocks where country in ('Korea', 'USA')\").show()\n",
    "# 한국와 미국의 주식의 개수"
   ]
  },
  {
   "cell_type": "markdown",
   "id": "f78f83b8",
   "metadata": {},
   "source": [
    "## JOIN"
   ]
  },
  {
   "cell_type": "code",
   "execution_count": 40,
   "id": "f814f5e9",
   "metadata": {},
   "outputs": [],
   "source": [
    "earnings = [\n",
    "    ('Google', 27.99, 'USD'), \n",
    "    ('Netflix', 2.56, 'USD'),\n",
    "    ('Amazon', 6.12, 'USD'),\n",
    "    ('Tesla', 1.86, 'USD'),\n",
    "    ('Tencent', 11.01, 'HKD'),\n",
    "    ('Toyota', 224.82, 'JPY'),\n",
    "    ('Samsung', 1780., 'KRW'),\n",
    "    ('Kakao', 705., 'KRW')\n",
    "]\n",
    "# 해당 회사가 주당 얼마를 버는지 나타내는 것\n"
   ]
  },
  {
   "cell_type": "code",
   "execution_count": 41,
   "id": "5336541f",
   "metadata": {},
   "outputs": [],
   "source": [
    "from pyspark.sql.types import StringType, FloatType, StructType, StructField"
   ]
  },
  {
   "cell_type": "code",
   "execution_count": 43,
   "id": "d6720992",
   "metadata": {},
   "outputs": [],
   "source": [
    "earningsSchema = StructType([\n",
    "    StructField(\"name\", StringType(), True),\n",
    "    StructField(\"eps\", FloatType(), True),\n",
    "    StructField(\"currency\", StringType(), True)\n",
    "])"
   ]
  },
  {
   "cell_type": "code",
   "execution_count": 48,
   "id": "a7c71208",
   "metadata": {},
   "outputs": [],
   "source": [
    "earningDF = spark.createDataFrame(data=earnings, schema=earningsSchema)\n",
    "# DataFrame으로 변환"
   ]
  },
  {
   "cell_type": "code",
   "execution_count": 49,
   "id": "3cd43d97",
   "metadata": {},
   "outputs": [
    {
     "data": {
      "text/plain": [
       "[('name', 'string'), ('eps', 'float'), ('currency', 'string')]"
      ]
     },
     "execution_count": 49,
     "metadata": {},
     "output_type": "execute_result"
    }
   ],
   "source": [
    "earningDF.dtypes"
   ]
  },
  {
   "cell_type": "code",
   "execution_count": 50,
   "id": "ef494e79",
   "metadata": {},
   "outputs": [],
   "source": [
    "# dataframe을 sql에 사용하기 위해서 temporaryView에 등록해야 SQL 가능 \n",
    "earningDF.createOrReplaceTempView(\"earnings\")"
   ]
  },
  {
   "cell_type": "code",
   "execution_count": 51,
   "id": "0b778601",
   "metadata": {},
   "outputs": [
    {
     "name": "stdout",
     "output_type": "stream",
     "text": [
      "+-------+------+--------+\n",
      "|   name|   eps|currency|\n",
      "+-------+------+--------+\n",
      "| Google| 27.99|     USD|\n",
      "|Netflix|  2.56|     USD|\n",
      "| Amazon|  6.12|     USD|\n",
      "|  Tesla|  1.86|     USD|\n",
      "|Tencent| 11.01|     HKD|\n",
      "| Toyota|224.82|     JPY|\n",
      "|Samsung|1780.0|     KRW|\n",
      "|  Kakao| 705.0|     KRW|\n",
      "+-------+------+--------+\n",
      "\n"
     ]
    }
   ],
   "source": [
    "earningDF.select(\"*\").show()"
   ]
  },
  {
   "cell_type": "code",
   "execution_count": 54,
   "id": "aa067966",
   "metadata": {},
   "outputs": [
    {
     "name": "stdout",
     "output_type": "stream",
     "text": [
      "+-------+------+---------+------+--------+-------+------+--------+\n",
      "|   name|ticker|  country| price|currency|   name|   eps|currency|\n",
      "+-------+------+---------+------+--------+-------+------+--------+\n",
      "| Amazon|  AMZN|      USA|  3518|     USD| Amazon|  6.12|     USD|\n",
      "| Google| GOOGL|      USA|  2984|     USD| Google| 27.99|     USD|\n",
      "|  Kakao|035720|    Korea|125000|     KRW|  Kakao| 705.0|     KRW|\n",
      "|Netflix|  NFLX|      USA|   645|     USD|Netflix|  2.56|     USD|\n",
      "|Samsung|005930|    Korea| 70600|     KRW|Samsung|1780.0|     KRW|\n",
      "|Tencent|  0700|Hong Kong|   483|     HKD|Tencent| 11.01|     HKD|\n",
      "|  Tesla|  TSLA|      USA|  1222|     USD|  Tesla|  1.86|     USD|\n",
      "| Toyota|  7203|    Japan|  2006|     JPY| Toyota|224.82|     JPY|\n",
      "+-------+------+---------+------+--------+-------+------+--------+\n",
      "\n"
     ]
    }
   ],
   "source": [
    "spark.sql(\"select * from stocks join earnings on stocks.name = earnings.name\").show()\n",
    "# tempview에 등록한 이름이 table명임으로 join을 위처럼 할 수 있음 \n",
    "# stocks.name과 earnings.name이 같은 값들만 가져옴 "
   ]
  },
  {
   "cell_type": "code",
   "execution_count": 56,
   "id": "10386e29",
   "metadata": {},
   "outputs": [
    {
     "name": "stdout",
     "output_type": "stream",
     "text": [
      "+-------+------------------+\n",
      "|   name|     (price / eps)|\n",
      "+-------+------------------+\n",
      "| Amazon| 574.8366120563447|\n",
      "| Google| 106.6095042658442|\n",
      "|  Kakao| 177.3049645390071|\n",
      "|Netflix| 251.9531306315913|\n",
      "|Samsung|39.662921348314605|\n",
      "|Tencent| 43.86920889728746|\n",
      "|  Tesla|  656.989242258975|\n",
      "| Toyota| 8.922693419839167|\n",
      "+-------+------------------+\n",
      "\n"
     ]
    }
   ],
   "source": [
    "# PER(주가 수익 비율) : Price / EPS\n",
    "\n",
    "spark.sql(\"select stocks.name, (stocks.price/earnings.eps) from stocks join earnings on stocks.name = earnings.name\").show()\n",
    "# 연산을 수행할 수 있음 "
   ]
  },
  {
   "cell_type": "code",
   "execution_count": null,
   "id": "16174c31",
   "metadata": {},
   "outputs": [],
   "source": []
  }
 ],
 "metadata": {
  "kernelspec": {
   "display_name": "Python 3 (ipykernel)",
   "language": "python",
   "name": "python3"
  },
  "language_info": {
   "codemirror_mode": {
    "name": "ipython",
    "version": 3
   },
   "file_extension": ".py",
   "mimetype": "text/x-python",
   "name": "python",
   "nbconvert_exporter": "python",
   "pygments_lexer": "ipython3",
   "version": "3.9.12"
  }
 },
 "nbformat": 4,
 "nbformat_minor": 5
}

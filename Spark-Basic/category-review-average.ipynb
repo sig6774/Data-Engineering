{
 "cells": [
  {
   "cell_type": "code",
   "execution_count": 1,
   "id": "4924f1f4",
   "metadata": {},
   "outputs": [],
   "source": [
    "from pyspark import SparkConf, SparkContext"
   ]
  },
  {
   "cell_type": "code",
   "execution_count": 2,
   "id": "db615d83",
   "metadata": {},
   "outputs": [],
   "source": [
    "conf = SparkConf().setMaster(\"local\").setAppName(\"category-review-average\")\n",
    "sc = SparkContext(conf=conf)"
   ]
  },
  {
   "cell_type": "code",
   "execution_count": 3,
   "id": "797db8f8",
   "metadata": {},
   "outputs": [],
   "source": [
    "directory = \"/Users/keon/fastcampus/data-engineering/01-spark/data\"\n",
    "filename = \"restaurant_reviews.csv\""
   ]
  },
  {
   "cell_type": "code",
   "execution_count": 4,
   "id": "bcffcd42",
   "metadata": {},
   "outputs": [],
   "source": [
    "lines = sc.textFile(f\"file:///{directory}/{filename}\")"
   ]
  },
  {
   "cell_type": "code",
   "execution_count": 5,
   "id": "dc7b9352",
   "metadata": {},
   "outputs": [
    {
     "data": {
      "text/plain": [
       "['id,item,cateogry,reviews',\n",
       " '0,짜장면,중식,125',\n",
       " '1,짬뽕,중식,235,',\n",
       " '2,김밥,분식,32',\n",
       " '3,떡볶이,분식,534',\n",
       " '4,라멘,일식,223   ',\n",
       " '5,돈가스,일식,52',\n",
       " '6,우동,일식,12',\n",
       " '7,쌀국수,아시안,312',\n",
       " '8,햄버거,패스트푸드,12',\n",
       " '9,치킨,패스트푸드,23']"
      ]
     },
     "execution_count": 5,
     "metadata": {},
     "output_type": "execute_result"
    }
   ],
   "source": [
    "lines.collect()"
   ]
  },
  {
   "cell_type": "code",
   "execution_count": 6,
   "id": "d426c2fa",
   "metadata": {},
   "outputs": [],
   "source": [
    "header = lines.first()"
   ]
  },
  {
   "cell_type": "code",
   "execution_count": 7,
   "id": "371457eb",
   "metadata": {},
   "outputs": [],
   "source": [
    "filtered_lines = lines.filter(lambda row: row != header)"
   ]
  },
  {
   "cell_type": "code",
   "execution_count": 8,
   "id": "a1778cc7",
   "metadata": {},
   "outputs": [
    {
     "data": {
      "text/plain": [
       "['0,짜장면,중식,125',\n",
       " '1,짬뽕,중식,235,',\n",
       " '2,김밥,분식,32',\n",
       " '3,떡볶이,분식,534',\n",
       " '4,라멘,일식,223   ',\n",
       " '5,돈가스,일식,52',\n",
       " '6,우동,일식,12',\n",
       " '7,쌀국수,아시안,312',\n",
       " '8,햄버거,패스트푸드,12',\n",
       " '9,치킨,패스트푸드,23']"
      ]
     },
     "execution_count": 8,
     "metadata": {},
     "output_type": "execute_result"
    }
   ],
   "source": [
    "filtered_lines.collect()"
   ]
  },
  {
   "cell_type": "code",
   "execution_count": 9,
   "id": "1f7a1926",
   "metadata": {},
   "outputs": [],
   "source": [
    "def parse(row):\n",
    "    #'0,짜장면,중식,125'\n",
    "    fields = row.split(\",\")\n",
    "    category = fields[2]\n",
    "    reviews = int(fields[3])\n",
    "    return (category, reviews)"
   ]
  },
  {
   "cell_type": "code",
   "execution_count": 10,
   "id": "bed5f1c2",
   "metadata": {},
   "outputs": [],
   "source": [
    "categoryReviews = filtered_lines.map(parse)"
   ]
  },
  {
   "cell_type": "code",
   "execution_count": 11,
   "id": "bc315f32",
   "metadata": {},
   "outputs": [
    {
     "data": {
      "text/plain": [
       "[('중식', 125),\n",
       " ('중식', 235),\n",
       " ('분식', 32),\n",
       " ('분식', 534),\n",
       " ('일식', 223),\n",
       " ('일식', 52),\n",
       " ('일식', 12),\n",
       " ('아시안', 312),\n",
       " ('패스트푸드', 12),\n",
       " ('패스트푸드', 23)]"
      ]
     },
     "execution_count": 11,
     "metadata": {},
     "output_type": "execute_result"
    }
   ],
   "source": [
    "categoryReviews.collect()"
   ]
  },
  {
   "cell_type": "code",
   "execution_count": 12,
   "id": "e0a27d3f",
   "metadata": {},
   "outputs": [],
   "source": [
    "categoryReviewsCount = categoryReviews.mapValues(lambda x: (x, 1))"
   ]
  },
  {
   "cell_type": "code",
   "execution_count": 13,
   "id": "d113e6cb",
   "metadata": {},
   "outputs": [
    {
     "data": {
      "text/plain": [
       "[('중식', (125, 1)),\n",
       " ('중식', (235, 1)),\n",
       " ('분식', (32, 1)),\n",
       " ('분식', (534, 1)),\n",
       " ('일식', (223, 1)),\n",
       " ('일식', (52, 1)),\n",
       " ('일식', (12, 1)),\n",
       " ('아시안', (312, 1)),\n",
       " ('패스트푸드', (12, 1)),\n",
       " ('패스트푸드', (23, 1))]"
      ]
     },
     "execution_count": 13,
     "metadata": {},
     "output_type": "execute_result"
    }
   ],
   "source": [
    "categoryReviewsCount.collect()"
   ]
  },
  {
   "cell_type": "code",
   "execution_count": 16,
   "id": "da10c4c0",
   "metadata": {},
   "outputs": [],
   "source": [
    "reduced = categoryReviewsCount.reduceByKey(lambda x, y: (x[0] + y[0], x[1] + y[1]))"
   ]
  },
  {
   "cell_type": "code",
   "execution_count": 17,
   "id": "f8895c21",
   "metadata": {},
   "outputs": [
    {
     "data": {
      "text/plain": [
       "[('중식', (360, 2)),\n",
       " ('분식', (566, 2)),\n",
       " ('일식', (287, 3)),\n",
       " ('아시안', (312, 1)),\n",
       " ('패스트푸드', (35, 2))]"
      ]
     },
     "execution_count": 17,
     "metadata": {},
     "output_type": "execute_result"
    }
   ],
   "source": [
    "reduced.collect()"
   ]
  },
  {
   "cell_type": "code",
   "execution_count": 18,
   "id": "d60cc4ea",
   "metadata": {},
   "outputs": [
    {
     "data": {
      "text/plain": [
       "[('중식', 180.0),\n",
       " ('분식', 283.0),\n",
       " ('일식', 95.66666666666667),\n",
       " ('아시안', 312.0),\n",
       " ('패스트푸드', 17.5)]"
      ]
     },
     "execution_count": 18,
     "metadata": {},
     "output_type": "execute_result"
    }
   ],
   "source": [
    "averages = reduced.mapValues(lambda x: x[0] / x[1])\n",
    "averages.collect()"
   ]
  },
  {
   "cell_type": "code",
   "execution_count": null,
   "id": "e34a33f4",
   "metadata": {},
   "outputs": [],
   "source": []
  }
 ],
 "metadata": {
  "kernelspec": {
   "display_name": "Python 3.9.1 64-bit ('3.9.1')",
   "language": "python",
   "name": "python3"
  },
  "language_info": {
   "codemirror_mode": {
    "name": "ipython",
    "version": 3
   },
   "file_extension": ".py",
   "mimetype": "text/x-python",
   "name": "python",
   "nbconvert_exporter": "python",
   "pygments_lexer": "ipython3",
   "version": "3.9.1"
  },
  "vscode": {
   "interpreter": {
    "hash": "b29909ae39fc17549a84839997d927dda790dc9d9d25402f3e010c02e8c51a82"
   }
  }
 },
 "nbformat": 4,
 "nbformat_minor": 5
}

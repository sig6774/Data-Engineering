{
 "cells": [
  {
   "cell_type": "code",
   "execution_count": 1,
   "id": "2ab1e3f1",
   "metadata": {},
   "outputs": [],
   "source": [
    "from pyspark import SparkConf, SparkContext"
   ]
  },
  {
   "cell_type": "code",
   "execution_count": 2,
   "id": "2a2f656b",
   "metadata": {},
   "outputs": [
    {
     "name": "stdout",
     "output_type": "stream",
     "text": [
      "22/09/18 22:22:21 WARN Utils: Your hostname, Moon-2.local resolves to a loopback address: 127.0.0.1; using 192.168.0.4 instead (on interface en0)\n",
      "22/09/18 22:22:21 WARN Utils: Set SPARK_LOCAL_IP if you need to bind to another address\n"
     ]
    },
    {
     "name": "stderr",
     "output_type": "stream",
     "text": [
      "Setting default log level to \"WARN\".\n",
      "To adjust logging level use sc.setLogLevel(newLevel). For SparkR, use setLogLevel(newLevel).\n"
     ]
    },
    {
     "name": "stdout",
     "output_type": "stream",
     "text": [
      "22/09/18 22:22:22 WARN NativeCodeLoader: Unable to load native-hadoop library for your platform... using builtin-java classes where applicable\n"
     ]
    }
   ],
   "source": [
    "conf = SparkConf().setMaster(\"local\").setAppName(\"category-review-average\")\n",
    "sc = SparkContext(conf=conf)\n",
    "# 초기화 "
   ]
  },
  {
   "cell_type": "code",
   "execution_count": 3,
   "id": "aba24836",
   "metadata": {},
   "outputs": [],
   "source": [
    "directory = \"/Users/sig6774/Desktop/Data_Engineering/data-engineering-main/01-spark/data\"\n",
    "filename = \"restaurant_reviews.csv\""
   ]
  },
  {
   "cell_type": "code",
   "execution_count": 4,
   "id": "ec916905",
   "metadata": {},
   "outputs": [],
   "source": [
    "lines = sc.textFile(f\"file:///{directory}/{filename}\")"
   ]
  },
  {
   "cell_type": "code",
   "execution_count": 5,
   "id": "fcd4ed0d",
   "metadata": {},
   "outputs": [
    {
     "name": "stderr",
     "output_type": "stream",
     "text": [
      "                                                                                \r"
     ]
    },
    {
     "data": {
      "text/plain": [
       "['id,item,cateogry,reviews',\n",
       " '0,짜장면,중식,125',\n",
       " '1,짬뽕,중식,235,',\n",
       " '2,김밥,분식,32',\n",
       " '3,떡볶이,분식,534',\n",
       " '4,라멘,일식,223   ',\n",
       " '5,돈가스,일식,52',\n",
       " '6,우동,일식,12',\n",
       " '7,쌀국수,아시안,312',\n",
       " '8,햄버거,패스트푸드,12',\n",
       " '9,치킨,패스트푸드,23']"
      ]
     },
     "execution_count": 5,
     "metadata": {},
     "output_type": "execute_result"
    }
   ],
   "source": [
    "lines.collect()\n",
    "# lines 객체에 들어있는 정보를 볼 수 있는 함수 "
   ]
  },
  {
   "cell_type": "code",
   "execution_count": 9,
   "id": "5b8f81b6",
   "metadata": {},
   "outputs": [
    {
     "name": "stderr",
     "output_type": "stream",
     "text": [
      "\r",
      "[Stage 1:>                                                          (0 + 1) / 1]\r",
      "\r",
      "                                                                                \r"
     ]
    }
   ],
   "source": [
    "header = lines.first()\n",
    "# 헤더 추출할 수 있음 "
   ]
  },
  {
   "cell_type": "code",
   "execution_count": 10,
   "id": "7aea955a",
   "metadata": {},
   "outputs": [],
   "source": [
    "filtered_lines = lines.filter(lambda row:row != header)"
   ]
  },
  {
   "cell_type": "code",
   "execution_count": 11,
   "id": "ed73ea79",
   "metadata": {},
   "outputs": [
    {
     "data": {
      "text/plain": [
       "['0,짜장면,중식,125',\n",
       " '1,짬뽕,중식,235,',\n",
       " '2,김밥,분식,32',\n",
       " '3,떡볶이,분식,534',\n",
       " '4,라멘,일식,223   ',\n",
       " '5,돈가스,일식,52',\n",
       " '6,우동,일식,12',\n",
       " '7,쌀국수,아시안,312',\n",
       " '8,햄버거,패스트푸드,12',\n",
       " '9,치킨,패스트푸드,23']"
      ]
     },
     "execution_count": 11,
     "metadata": {},
     "output_type": "execute_result"
    }
   ],
   "source": [
    "filtered_lines.collect()"
   ]
  },
  {
   "cell_type": "code",
   "execution_count": 13,
   "id": "d3f527a4",
   "metadata": {},
   "outputs": [],
   "source": [
    "def parse(row):\n",
    "    # '0,짜장면,중식,125'\n",
    "    fields = row.split(\",\")\n",
    "    category = fields[2]\n",
    "    reviews = int(fields[3])\n",
    "    \n",
    "    return (category, reviews)\n",
    "# 파싱할 수 있는 함수 구현 "
   ]
  },
  {
   "cell_type": "code",
   "execution_count": 14,
   "id": "352ccbd1",
   "metadata": {},
   "outputs": [],
   "source": [
    "categoryReviews = filtered_lines.map(parse)"
   ]
  },
  {
   "cell_type": "code",
   "execution_count": 15,
   "id": "f8229a40",
   "metadata": {},
   "outputs": [
    {
     "data": {
      "text/plain": [
       "[('중식', 125),\n",
       " ('중식', 235),\n",
       " ('분식', 32),\n",
       " ('분식', 534),\n",
       " ('일식', 223),\n",
       " ('일식', 52),\n",
       " ('일식', 12),\n",
       " ('아시안', 312),\n",
       " ('패스트푸드', 12),\n",
       " ('패스트푸드', 23)]"
      ]
     },
     "execution_count": 15,
     "metadata": {},
     "output_type": "execute_result"
    }
   ],
   "source": [
    "categoryReviews.collect()"
   ]
  },
  {
   "cell_type": "code",
   "execution_count": 16,
   "id": "d591de62",
   "metadata": {},
   "outputs": [],
   "source": [
    "categoryReviewsCount = categoryReviews.mapValues(lambda x : (x,1))"
   ]
  },
  {
   "cell_type": "code",
   "execution_count": 17,
   "id": "5cca4efa",
   "metadata": {},
   "outputs": [
    {
     "data": {
      "text/plain": [
       "[('중식', (125, 1)),\n",
       " ('중식', (235, 1)),\n",
       " ('분식', (32, 1)),\n",
       " ('분식', (534, 1)),\n",
       " ('일식', (223, 1)),\n",
       " ('일식', (52, 1)),\n",
       " ('일식', (12, 1)),\n",
       " ('아시안', (312, 1)),\n",
       " ('패스트푸드', (12, 1)),\n",
       " ('패스트푸드', (23, 1))]"
      ]
     },
     "execution_count": 17,
     "metadata": {},
     "output_type": "execute_result"
    }
   ],
   "source": [
    "categoryReviewsCount.collect()"
   ]
  },
  {
   "cell_type": "code",
   "execution_count": 18,
   "id": "1178a3bc",
   "metadata": {},
   "outputs": [],
   "source": [
    "reduced = categoryReviewsCount.reduceByKey(lambda x, y : (x[0] + y[0], x[1] + y[1]))\n",
    "# reduceByKey : 키를 기준으로 value를 task에 맞게 처리 \n",
    "# 키를 기준으로 125와 같이 앞의 값을 더해줌, 키를 기준으로 1와 같이 뒤의 값을 더해줌 "
   ]
  },
  {
   "cell_type": "code",
   "execution_count": 19,
   "id": "b45f1c5f",
   "metadata": {},
   "outputs": [
    {
     "data": {
      "text/plain": [
       "[('중식', (360, 2)),\n",
       " ('분식', (566, 2)),\n",
       " ('일식', (287, 3)),\n",
       " ('아시안', (312, 1)),\n",
       " ('패스트푸드', (35, 2))]"
      ]
     },
     "execution_count": 19,
     "metadata": {},
     "output_type": "execute_result"
    }
   ],
   "source": [
    "reduced.collect()"
   ]
  },
  {
   "cell_type": "code",
   "execution_count": 20,
   "id": "44c76e62",
   "metadata": {},
   "outputs": [
    {
     "data": {
      "text/plain": [
       "[('중식', 180.0),\n",
       " ('분식', 283.0),\n",
       " ('일식', 95.66666666666667),\n",
       " ('아시안', 312.0),\n",
       " ('패스트푸드', 17.5)]"
      ]
     },
     "execution_count": 20,
     "metadata": {},
     "output_type": "execute_result"
    }
   ],
   "source": [
    "averages = reduced.mapValues(lambda x: x[0] / x[1])\n",
    "# mapValues()는 key가 변하지 않을 때 사용하면 좋음 \n",
    "# key를 기준으로 tuple 형태인 value의 통계를 구할 수 있음 \n",
    "averages.collect()\n",
    "# 평균값 출력 가능 "
   ]
  },
  {
   "cell_type": "code",
   "execution_count": null,
   "id": "4f5fa9ec",
   "metadata": {},
   "outputs": [],
   "source": []
  }
 ],
 "metadata": {
  "kernelspec": {
   "display_name": "Python 3 (ipykernel)",
   "language": "python",
   "name": "python3"
  },
  "language_info": {
   "codemirror_mode": {
    "name": "ipython",
    "version": 3
   },
   "file_extension": ".py",
   "mimetype": "text/x-python",
   "name": "python",
   "nbconvert_exporter": "python",
   "pygments_lexer": "ipython3",
   "version": "3.9.12"
  }
 },
 "nbformat": 4,
 "nbformat_minor": 5
}

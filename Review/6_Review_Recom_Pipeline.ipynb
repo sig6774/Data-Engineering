{
 "cells": [
  {
   "cell_type": "code",
   "execution_count": 1,
   "metadata": {},
   "outputs": [
    {
     "name": "stdout",
     "output_type": "stream",
     "text": [
      "23/03/26 22:19:52 WARN Utils: Your hostname, Moon-3.local resolves to a loopback address: 127.0.0.1; using 192.168.0.2 instead (on interface en0)\n",
      "23/03/26 22:19:52 WARN Utils: Set SPARK_LOCAL_IP if you need to bind to another address\n"
     ]
    },
    {
     "name": "stderr",
     "output_type": "stream",
     "text": [
      "Setting default log level to \"WARN\".\n",
      "To adjust logging level use sc.setLogLevel(newLevel). For SparkR, use setLogLevel(newLevel).\n"
     ]
    },
    {
     "name": "stdout",
     "output_type": "stream",
     "text": [
      "23/03/26 22:19:53 WARN NativeCodeLoader: Unable to load native-hadoop library for your platform... using builtin-java classes where applicable\n"
     ]
    }
   ],
   "source": [
    "from pyspark.sql import SparkSession\n",
    "\n",
    "# 메모리 에러가 날 수 있어서 사전에 메모리 지정 \n",
    "MAX_MEMORY = \"5g\"\n",
    "spark = SparkSession.builder.appName(\"movie-recommendation\")\\\n",
    "    .config(\"spark.executor.memory\", MAX_MEMORY)\\\n",
    "    .config(\"spark.driver.memory\", MAX_MEMORY)\\\n",
    "    .getOrCreate()"
   ]
  },
  {
   "cell_type": "code",
   "execution_count": 2,
   "metadata": {},
   "outputs": [
    {
     "name": "stderr",
     "output_type": "stream",
     "text": [
      "                                                                                \r"
     ]
    }
   ],
   "source": [
    "ratings_file = \"/Users/sig6774/Desktop/Data_Engineering/data-engineering-main/01-spark/data/ml-25m/ratings.csv\"\n",
    "ratings_df = spark.read.csv(f\"file:///{ratings_file}\", inferSchema=True, header=True)"
   ]
  },
  {
   "cell_type": "code",
   "execution_count": 3,
   "metadata": {},
   "outputs": [
    {
     "name": "stdout",
     "output_type": "stream",
     "text": [
      "+------+-------+------+----------+\n",
      "|userId|movieId|rating| timestamp|\n",
      "+------+-------+------+----------+\n",
      "|     1|    296|   5.0|1147880044|\n",
      "|     1|    306|   3.5|1147868817|\n",
      "|     1|    307|   5.0|1147868828|\n",
      "|     1|    665|   5.0|1147878820|\n",
      "|     1|    899|   3.5|1147868510|\n",
      "|     1|   1088|   4.0|1147868495|\n",
      "|     1|   1175|   3.5|1147868826|\n",
      "|     1|   1217|   3.5|1147878326|\n",
      "|     1|   1237|   5.0|1147868839|\n",
      "|     1|   1250|   4.0|1147868414|\n",
      "|     1|   1260|   3.5|1147877857|\n",
      "|     1|   1653|   4.0|1147868097|\n",
      "|     1|   2011|   2.5|1147868079|\n",
      "|     1|   2012|   2.5|1147868068|\n",
      "|     1|   2068|   2.5|1147869044|\n",
      "|     1|   2161|   3.5|1147868609|\n",
      "|     1|   2351|   4.5|1147877957|\n",
      "|     1|   2573|   4.0|1147878923|\n",
      "|     1|   2632|   5.0|1147878248|\n",
      "|     1|   2692|   5.0|1147869100|\n",
      "+------+-------+------+----------+\n",
      "only showing top 20 rows\n",
      "\n"
     ]
    }
   ],
   "source": [
    "ratings_df.show()"
   ]
  },
  {
   "cell_type": "code",
   "execution_count": 4,
   "metadata": {},
   "outputs": [
    {
     "name": "stdout",
     "output_type": "stream",
     "text": [
      "root\n",
      " |-- userId: integer (nullable = true)\n",
      " |-- movieId: integer (nullable = true)\n",
      " |-- rating: double (nullable = true)\n",
      "\n"
     ]
    }
   ],
   "source": [
    "ratings_df = ratings_df.select([\"userId\", \"movieId\", \"rating\"])\n",
    "# 불러온 dataframe에서 특정 컬럼만 추출 \n",
    "ratings_df.printSchema()"
   ]
  },
  {
   "cell_type": "code",
   "execution_count": 5,
   "metadata": {},
   "outputs": [
    {
     "name": "stderr",
     "output_type": "stream",
     "text": [
      "[Stage 3:===================================================>       (7 + 1) / 8]\r"
     ]
    },
    {
     "name": "stdout",
     "output_type": "stream",
     "text": [
      "+-------+------------------+\n",
      "|summary|            rating|\n",
      "+-------+------------------+\n",
      "|  count|          25000095|\n",
      "|   mean| 3.533854451353085|\n",
      "| stddev|1.0607439611423508|\n",
      "|    min|               0.5|\n",
      "|    max|               5.0|\n",
      "+-------+------------------+\n",
      "\n"
     ]
    },
    {
     "name": "stderr",
     "output_type": "stream",
     "text": [
      "                                                                                \r"
     ]
    }
   ],
   "source": [
    "ratings_df.select(\"rating\").describe().show()\n",
    "# rating라는 컬럼의 통계값 확인 "
   ]
  },
  {
   "cell_type": "code",
   "execution_count": 6,
   "metadata": {},
   "outputs": [],
   "source": [
    "# split data \n",
    "train_df, test_df = ratings_df.randomSplit([0.8, 0.2])"
   ]
  },
  {
   "cell_type": "code",
   "execution_count": 7,
   "metadata": {},
   "outputs": [],
   "source": [
    "from pyspark.ml.recommendation import ALS\n",
    "# 추천 알고리즘 \n",
    "als = ALS(\n",
    "        maxIter=5, \n",
    "        regParam=0.1,\n",
    "        userCol=\"userId\",\n",
    "        itemCol=\"movieId\",\n",
    "        ratingCol=\"rating\",\n",
    "        coldStartStrategy=\"drop\"\n",
    "        # 학습하지 못한 데이터를 만났을 때 어떻게 대처해야하는지에 대한 param\n",
    "        )\n",
    "# 해당 알고리즘을 적용하기 위해 필요한 param 적용 "
   ]
  },
  {
   "cell_type": "code",
   "execution_count": 8,
   "metadata": {},
   "outputs": [
    {
     "name": "stderr",
     "output_type": "stream",
     "text": [
      "                                                                                \r"
     ]
    },
    {
     "name": "stdout",
     "output_type": "stream",
     "text": [
      "23/03/26 22:20:34 WARN InstanceBuilder$NativeBLAS: Failed to load implementation from:dev.ludovic.netlib.blas.JNIBLAS\n",
      "23/03/26 22:20:34 WARN InstanceBuilder$NativeBLAS: Failed to load implementation from:dev.ludovic.netlib.blas.ForeignLinkerBLAS\n"
     ]
    },
    {
     "name": "stderr",
     "output_type": "stream",
     "text": [
      "[Stage 15:=============================================>           (8 + 2) / 10]\r"
     ]
    },
    {
     "name": "stdout",
     "output_type": "stream",
     "text": [
      "23/03/26 22:20:35 WARN InstanceBuilder$NativeLAPACK: Failed to load implementation from:dev.ludovic.netlib.lapack.JNILAPACK\n"
     ]
    },
    {
     "name": "stderr",
     "output_type": "stream",
     "text": [
      "                                                                                \r"
     ]
    }
   ],
   "source": [
    "model = als.fit(train_df)\n",
    "# 메모리 에러가 날 수 있음 \n",
    "# spark session을 생성 할 때 메모리 지정해줘야함 "
   ]
  },
  {
   "cell_type": "code",
   "execution_count": 10,
   "metadata": {},
   "outputs": [
    {
     "name": "stderr",
     "output_type": "stream",
     "text": [
      "                                                                                \r"
     ]
    },
    {
     "name": "stdout",
     "output_type": "stream",
     "text": [
      "+------+-------+------+----------+\n",
      "|userId|movieId|rating|prediction|\n",
      "+------+-------+------+----------+\n",
      "|    31|   6620|   1.5|  2.516371|\n",
      "|    76|   1959|   5.0| 3.6269543|\n",
      "|   243|   1580|   3.0| 2.7584443|\n",
      "|   243|  44022|   3.0| 2.4128227|\n",
      "|   321|   1580|   3.0|    3.1143|\n",
      "|   322|   1645|   4.0| 3.5236678|\n",
      "|   406|   1088|   5.0| 3.5911279|\n",
      "|   458|   1580|   3.5| 3.2566917|\n",
      "|   472|   3918|   3.0| 2.4620767|\n",
      "|   481|   1580|   4.0| 3.6883478|\n",
      "|   606|   1645|   3.0|  4.275316|\n",
      "|   606|  68135|   3.5| 3.9147344|\n",
      "|   626|  44022|   3.0| 3.1494656|\n",
      "|   772|   1645|   3.0| 2.9172883|\n",
      "|   830|   1580|   5.0| 3.4807115|\n",
      "|   844|   2122|   2.0| 2.3254826|\n",
      "|   847|   1580|   3.0| 2.8064106|\n",
      "|   847|   6620|   4.0|  3.725472|\n",
      "|   847| 119432|   3.5| 3.1498907|\n",
      "|   876|   1580|   3.5|  3.106748|\n",
      "+------+-------+------+----------+\n",
      "only showing top 20 rows\n",
      "\n"
     ]
    }
   ],
   "source": [
    "pred = model.transform(test_df)\n",
    "pred.show()"
   ]
  },
  {
   "cell_type": "code",
   "execution_count": 11,
   "metadata": {},
   "outputs": [
    {
     "name": "stderr",
     "output_type": "stream",
     "text": [
      "[Stage 141:==================================================>      (8 + 1) / 9]\r"
     ]
    },
    {
     "name": "stdout",
     "output_type": "stream",
     "text": [
      "+-------+------------------+------------------+\n",
      "|summary|            rating|        prediction|\n",
      "+-------+------------------+------------------+\n",
      "|  count|           4996136|           4996136|\n",
      "|   mean|3.5346031413076027| 3.433834776379486|\n",
      "| stddev|1.0603640353264783|0.6515956239543522|\n",
      "|    min|               0.5|        -1.7539992|\n",
      "|    max|               5.0|         6.7610817|\n",
      "+-------+------------------+------------------+\n",
      "\n"
     ]
    },
    {
     "name": "stderr",
     "output_type": "stream",
     "text": [
      "                                                                                \r"
     ]
    }
   ],
   "source": [
    "pred.select(\"rating\", \"prediction\").describe().show()\n",
    "# 통계값 추출 "
   ]
  },
  {
   "cell_type": "code",
   "execution_count": 12,
   "metadata": {},
   "outputs": [],
   "source": [
    "from pyspark.ml.evaluation import RegressionEvaluator\n",
    "evaluator = RegressionEvaluator(metricName=\"rmse\", labelCol = \"rating\", predictionCol=\"prediction\")"
   ]
  },
  {
   "cell_type": "code",
   "execution_count": 15,
   "metadata": {},
   "outputs": [
    {
     "name": "stderr",
     "output_type": "stream",
     "text": [
      "[Stage 257:============================================>            (7 + 2) / 9]\r"
     ]
    },
    {
     "name": "stdout",
     "output_type": "stream",
     "text": [
      "0.8104020615866961\n"
     ]
    },
    {
     "name": "stderr",
     "output_type": "stream",
     "text": [
      "                                                                                \r"
     ]
    }
   ],
   "source": [
    "rmse = evaluator.evaluate(pred)\n",
    "print(rmse)\n",
    "# 모델 성능 확인 "
   ]
  },
  {
   "cell_type": "code",
   "execution_count": 16,
   "metadata": {},
   "outputs": [
    {
     "name": "stderr",
     "output_type": "stream",
     "text": [
      "[Stage 272:=====================================================>(99 + 1) / 100]\r"
     ]
    },
    {
     "name": "stdout",
     "output_type": "stream",
     "text": [
      "+------+--------------------+\n",
      "|userId|     recommendations|\n",
      "+------+--------------------+\n",
      "|    26|[{200930, 5.52924...|\n",
      "|    27|[{126941, 5.77172...|\n",
      "|    28|[{194434, 6.94018...|\n",
      "|    31|[{201821, 3.76500...|\n",
      "|    34|[{112577, 6.77582...|\n",
      "|    44|[{126941, 7.35727...|\n",
      "|    53|[{192089, 6.46796...|\n",
      "|    65|[{112577, 7.38221...|\n",
      "|    76|[{200930, 5.82385...|\n",
      "|    78|[{126941, 6.92072...|\n",
      "|    81|[{200930, 4.48050...|\n",
      "|    85|[{164809, 6.06455...|\n",
      "|   101|[{200930, 5.09683...|\n",
      "|   103|[{194434, 5.83162...|\n",
      "|   108|[{194434, 5.43484...|\n",
      "|   115|[{205277, 5.87427...|\n",
      "|   126|[{194434, 6.12760...|\n",
      "|   133|[{200930, 5.35752...|\n",
      "|   137|[{201821, 5.48452...|\n",
      "|   148|[{194434, 5.68710...|\n",
      "+------+--------------------+\n",
      "only showing top 20 rows\n",
      "\n"
     ]
    },
    {
     "name": "stderr",
     "output_type": "stream",
     "text": [
      "                                                                                \r"
     ]
    }
   ],
   "source": [
    "model.recommendForAllUsers(3).show()\n",
    "# 해당 함수를 통해 유저마다 3개의 recommendation을 보여줌 "
   ]
  },
  {
   "cell_type": "code",
   "execution_count": 17,
   "metadata": {},
   "outputs": [
    {
     "name": "stderr",
     "output_type": "stream",
     "text": [
      "[Stage 301:=====================================================>(99 + 1) / 100]\r"
     ]
    },
    {
     "name": "stdout",
     "output_type": "stream",
     "text": [
      "+-------+--------------------+\n",
      "|movieId|     recommendations|\n",
      "+-------+--------------------+\n",
      "|     26|[{87426, 5.257085...|\n",
      "|     27|[{87426, 6.198086...|\n",
      "|     28|[{33115, 5.719239...|\n",
      "|     31|[{87426, 6.032798...|\n",
      "|     34|[{7629, 5.4229746...|\n",
      "|     44|[{87426, 5.356340...|\n",
      "|     53|[{104135, 5.42763...|\n",
      "|     65|[{87426, 5.253678...|\n",
      "|     76|[{87426, 5.610274...|\n",
      "|     78|[{87426, 5.204614...|\n",
      "|     81|[{87426, 5.233549...|\n",
      "|     85|[{87426, 5.176894...|\n",
      "|    101|[{104135, 5.02584...|\n",
      "|    103|[{87426, 5.867542...|\n",
      "|    108|[{149507, 5.51742...|\n",
      "|    115|[{33115, 5.979637...|\n",
      "|    126|[{87426, 5.332704...|\n",
      "|    133|[{87426, 5.296861...|\n",
      "|    137|[{149507, 5.51090...|\n",
      "|    148|[{149507, 4.17457...|\n",
      "+-------+--------------------+\n",
      "only showing top 20 rows\n",
      "\n"
     ]
    },
    {
     "name": "stderr",
     "output_type": "stream",
     "text": [
      "                                                                                \r"
     ]
    }
   ],
   "source": [
    "model.recommendForAllItems(3).show()\n",
    "# 아이템마다 3개의 recommendation을 보여줌 "
   ]
  },
  {
   "cell_type": "code",
   "execution_count": 18,
   "metadata": {},
   "outputs": [
    {
     "name": "stdout",
     "output_type": "stream",
     "text": [
      "+------+\n",
      "|userID|\n",
      "+------+\n",
      "|    65|\n",
      "|    78|\n",
      "|    81|\n",
      "+------+\n",
      "\n"
     ]
    }
   ],
   "source": [
    "from pyspark.sql.types import IntegerType\n",
    "\n",
    "user_list = [65,78,81]\n",
    "users_df = spark.createDataFrame(user_list, IntegerType()).toDF(\"userID\")\n",
    "\n",
    "users_df.show()\n",
    "# data frame으로 변환 "
   ]
  },
  {
   "cell_type": "code",
   "execution_count": 30,
   "metadata": {},
   "outputs": [
    {
     "name": "stderr",
     "output_type": "stream",
     "text": [
      "[Stage 590:==================================================>(1961 + 8) / 2000]\r"
     ]
    },
    {
     "name": "stdout",
     "output_type": "stream",
     "text": [
      "+------+--------------------+\n",
      "|userId|     recommendations|\n",
      "+------+--------------------+\n",
      "|    65|[{112577, 7.38221...|\n",
      "|    78|[{126941, 6.92072...|\n",
      "|    81|[{200930, 4.48050...|\n",
      "+------+--------------------+\n",
      "\n",
      "None\n"
     ]
    },
    {
     "name": "stderr",
     "output_type": "stream",
     "text": [
      "                                                                                \r"
     ]
    }
   ],
   "source": [
    "user_recs = model.recommendForUserSubset(users_df, 5)\n",
    "# 각 유저마다 5개의 영화를 추천 \n",
    "print(user_recs.show())\n",
    "# 추천되는 movie의 id만 출력되는데 해당 id를 이름으로 변경 "
   ]
  },
  {
   "cell_type": "code",
   "execution_count": 29,
   "metadata": {},
   "outputs": [
    {
     "name": "stderr",
     "output_type": "stream",
     "text": [
      "                                                                                \r"
     ]
    }
   ],
   "source": [
    "movie_list = user_recs.collect()[0].recommendations"
   ]
  },
  {
   "cell_type": "code",
   "execution_count": 31,
   "metadata": {},
   "outputs": [
    {
     "name": "stdout",
     "output_type": "stream",
     "text": [
      "+-------+-----------------+\n",
      "|movieId|           rating|\n",
      "+-------+-----------------+\n",
      "| 112577|7.382209777832031|\n",
      "| 144202|6.641467094421387|\n",
      "|  98221|6.372282028198242|\n",
      "| 120821|6.170456886291504|\n",
      "| 200930|6.036976337432861|\n",
      "+-------+-----------------+\n",
      "\n"
     ]
    }
   ],
   "source": [
    "recs_df = spark.createDataFrame(movie_list)\n",
    "recs_df.show()"
   ]
  },
  {
   "cell_type": "code",
   "execution_count": 32,
   "metadata": {},
   "outputs": [],
   "source": [
    "movies_file = \"/Users/sig6774/Desktop/Data_Engineering/data-engineering-main/01-spark/data/ml-25m/movies.csv\"\n",
    "movies_df = spark.read.csv(f\"file:///{movies_file}\", inferSchema=True, header=True)"
   ]
  },
  {
   "cell_type": "code",
   "execution_count": 33,
   "metadata": {},
   "outputs": [
    {
     "name": "stdout",
     "output_type": "stream",
     "text": [
      "+-------+--------------------+--------------------+\n",
      "|movieId|               title|              genres|\n",
      "+-------+--------------------+--------------------+\n",
      "|      1|    Toy Story (1995)|Adventure|Animati...|\n",
      "|      2|      Jumanji (1995)|Adventure|Childre...|\n",
      "|      3|Grumpier Old Men ...|      Comedy|Romance|\n",
      "|      4|Waiting to Exhale...|Comedy|Drama|Romance|\n",
      "|      5|Father of the Bri...|              Comedy|\n",
      "|      6|         Heat (1995)|Action|Crime|Thri...|\n",
      "|      7|      Sabrina (1995)|      Comedy|Romance|\n",
      "|      8| Tom and Huck (1995)|  Adventure|Children|\n",
      "|      9| Sudden Death (1995)|              Action|\n",
      "|     10|    GoldenEye (1995)|Action|Adventure|...|\n",
      "|     11|American Presiden...|Comedy|Drama|Romance|\n",
      "|     12|Dracula: Dead and...|       Comedy|Horror|\n",
      "|     13|        Balto (1995)|Adventure|Animati...|\n",
      "|     14|        Nixon (1995)|               Drama|\n",
      "|     15|Cutthroat Island ...|Action|Adventure|...|\n",
      "|     16|       Casino (1995)|         Crime|Drama|\n",
      "|     17|Sense and Sensibi...|       Drama|Romance|\n",
      "|     18|   Four Rooms (1995)|              Comedy|\n",
      "|     19|Ace Ventura: When...|              Comedy|\n",
      "|     20|  Money Train (1995)|Action|Comedy|Cri...|\n",
      "+-------+--------------------+--------------------+\n",
      "only showing top 20 rows\n",
      "\n"
     ]
    }
   ],
   "source": [
    "movies_df.show()"
   ]
  },
  {
   "cell_type": "code",
   "execution_count": 34,
   "metadata": {},
   "outputs": [],
   "source": [
    "# 추천 결과가 담긴 dataframe과 movei에 대한 정보가 담긴 dataframe을 sql로 사용하기 위해 tempview 생성 \n",
    "\n",
    "recs_df.createOrReplaceTempView(\"recom\")\n",
    "movies_df.createOrReplaceTempView(\"movie\")"
   ]
  },
  {
   "cell_type": "code",
   "execution_count": 35,
   "metadata": {},
   "outputs": [
    {
     "name": "stdout",
     "output_type": "stream",
     "text": [
      "+-------+--------------------+--------------------+-------+-----------------+\n",
      "|movieId|               title|              genres|movieId|           rating|\n",
      "+-------+--------------------+--------------------+-------+-----------------+\n",
      "| 112577|Willie & Phil (1980)|Comedy|Drama|Romance| 112577|7.382209777832031|\n",
      "| 144202|Catch That Girl (...|     Action|Children| 144202|6.641467094421387|\n",
      "|  98221|Year One, The (L'...|              Comedy|  98221|6.372282028198242|\n",
      "| 120821|The War at Home (...|     Documentary|War| 120821|6.170456886291504|\n",
      "| 200930|C'est quoi la vie...|               Drama| 200930|6.036976337432861|\n",
      "+-------+--------------------+--------------------+-------+-----------------+\n",
      "\n"
     ]
    }
   ],
   "source": [
    "# join을 통해서 추천 결과와 실제 movie 데이터를 함께 추출 \n",
    "\n",
    "query = \"\"\"\n",
    "select *\n",
    "from \n",
    "    movie join recom\n",
    "    on movie.movieId = recom.movieId\n",
    "order by\n",
    "    rating desc\n",
    "\"\"\"\n",
    "\n",
    "recommended_movies = spark.sql(query)\n",
    "recommended_movies.show()"
   ]
  },
  {
   "cell_type": "code",
   "execution_count": 37,
   "metadata": {},
   "outputs": [],
   "source": [
    "# api를 사용해서 끝내도록 하나의 function안에 작성 \n",
    "\n",
    "def get_recommendations(user_id, num_recs):\n",
    "    # 유저의 아이디와 추천 개수를 입력 파라미터로 받음 \n",
    "    user_df = spark.createDataFrame([user_id], IntegerType()).toDF(\"userId\")\n",
    "    user_recs_df = model.recommendForUserSubset(users_df, num_recs)\n",
    "\n",
    "    recs_list = user_recs_df.collect()[0].recommendations\n",
    "    recs_df = spark.createDataFrame(recs_list)\n",
    "\n",
    "    query = \"\"\"\n",
    "        select *\n",
    "        from \n",
    "            movie join recom\n",
    "            on movie.movieId = recom.movieId\n",
    "        order by\n",
    "            rating desc\n",
    "        \"\"\"\n",
    "    recommended_movies = spark.sql(query)\n",
    "    return recommended_movies"
   ]
  },
  {
   "cell_type": "code",
   "execution_count": 38,
   "metadata": {},
   "outputs": [
    {
     "name": "stderr",
     "output_type": "stream",
     "text": [
      "                                                                                \r"
     ]
    }
   ],
   "source": [
    "recs = get_recommendations(456,10)"
   ]
  },
  {
   "cell_type": "code",
   "execution_count": 39,
   "metadata": {},
   "outputs": [
    {
     "data": {
      "text/html": [
       "<div>\n",
       "<style scoped>\n",
       "    .dataframe tbody tr th:only-of-type {\n",
       "        vertical-align: middle;\n",
       "    }\n",
       "\n",
       "    .dataframe tbody tr th {\n",
       "        vertical-align: top;\n",
       "    }\n",
       "\n",
       "    .dataframe thead th {\n",
       "        text-align: right;\n",
       "    }\n",
       "</style>\n",
       "<table border=\"1\" class=\"dataframe\">\n",
       "  <thead>\n",
       "    <tr style=\"text-align: right;\">\n",
       "      <th></th>\n",
       "      <th>movieId</th>\n",
       "      <th>title</th>\n",
       "      <th>genres</th>\n",
       "      <th>movieId</th>\n",
       "      <th>rating</th>\n",
       "    </tr>\n",
       "  </thead>\n",
       "  <tbody>\n",
       "    <tr>\n",
       "      <th>0</th>\n",
       "      <td>112577</td>\n",
       "      <td>Willie &amp; Phil (1980)</td>\n",
       "      <td>Comedy|Drama|Romance</td>\n",
       "      <td>112577</td>\n",
       "      <td>7.382210</td>\n",
       "    </tr>\n",
       "    <tr>\n",
       "      <th>1</th>\n",
       "      <td>144202</td>\n",
       "      <td>Catch That Girl (2002)</td>\n",
       "      <td>Action|Children</td>\n",
       "      <td>144202</td>\n",
       "      <td>6.641467</td>\n",
       "    </tr>\n",
       "    <tr>\n",
       "      <th>2</th>\n",
       "      <td>98221</td>\n",
       "      <td>Year One, The (L'an 01) (1973)</td>\n",
       "      <td>Comedy</td>\n",
       "      <td>98221</td>\n",
       "      <td>6.372282</td>\n",
       "    </tr>\n",
       "    <tr>\n",
       "      <th>3</th>\n",
       "      <td>120821</td>\n",
       "      <td>The War at Home (1979)</td>\n",
       "      <td>Documentary|War</td>\n",
       "      <td>120821</td>\n",
       "      <td>6.170457</td>\n",
       "    </tr>\n",
       "    <tr>\n",
       "      <th>4</th>\n",
       "      <td>200930</td>\n",
       "      <td>C'est quoi la vie? (1999)</td>\n",
       "      <td>Drama</td>\n",
       "      <td>200930</td>\n",
       "      <td>6.036976</td>\n",
       "    </tr>\n",
       "  </tbody>\n",
       "</table>\n",
       "</div>"
      ],
      "text/plain": [
       "   movieId                           title                genres  movieId  \\\n",
       "0   112577            Willie & Phil (1980)  Comedy|Drama|Romance   112577   \n",
       "1   144202          Catch That Girl (2002)       Action|Children   144202   \n",
       "2    98221  Year One, The (L'an 01) (1973)                Comedy    98221   \n",
       "3   120821          The War at Home (1979)       Documentary|War   120821   \n",
       "4   200930       C'est quoi la vie? (1999)                 Drama   200930   \n",
       "\n",
       "     rating  \n",
       "0  7.382210  \n",
       "1  6.641467  \n",
       "2  6.372282  \n",
       "3  6.170457  \n",
       "4  6.036976  "
      ]
     },
     "execution_count": 39,
     "metadata": {},
     "output_type": "execute_result"
    }
   ],
   "source": [
    "import pandas as pd \n",
    "recs.toPandas()"
   ]
  },
  {
   "cell_type": "code",
   "execution_count": 40,
   "metadata": {},
   "outputs": [],
   "source": [
    "spark.stop()"
   ]
  },
  {
   "cell_type": "code",
   "execution_count": null,
   "metadata": {},
   "outputs": [],
   "source": []
  }
 ],
 "metadata": {
  "kernelspec": {
   "display_name": "base",
   "language": "python",
   "name": "python3"
  },
  "language_info": {
   "codemirror_mode": {
    "name": "ipython",
    "version": 3
   },
   "file_extension": ".py",
   "mimetype": "text/x-python",
   "name": "python",
   "nbconvert_exporter": "python",
   "pygments_lexer": "ipython3",
   "version": "3.9.12"
  },
  "orig_nbformat": 4
 },
 "nbformat": 4,
 "nbformat_minor": 2
}
